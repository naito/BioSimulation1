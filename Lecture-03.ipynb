{
 "metadata": {
  "name": "",
  "signature": "sha256:9e7a866113671f5b2879401e135cf4d03bfafe529292d51381d35bafda173905"
 },
 "nbformat": 3,
 "nbformat_minor": 0,
 "worksheets": [
  {
   "cells": [
    {
     "cell_type": "heading",
     "level": 1,
     "metadata": {},
     "source": [
      "\u30c8\u30ec\u30fc\u30cb\u30f3\u30b0"
     ]
    },
    {
     "cell_type": "markdown",
     "metadata": {},
     "source": [
      "\u8ad6\u7406\u7684\u306b\u8003\u3048\u3066\u3001\u30d7\u30ed\u30b0\u30e9\u30e0\u3092\u9053\u5177\u306b\u3057\u3066\u554f\u984c\u3092\u89e3\u304f\u4f8b\u984c\u3067\u3059\u3002\n",
      "\n",
      "\u4eca\u56de\u306f **\u6587\u5b57\u5217\u7de8\u96c6\u554f\u984c** \u3092\u53d6\u308a\u3042\u3052\u307e\u3059\u3002"
     ]
    },
    {
     "cell_type": "markdown",
     "metadata": {},
     "source": [
      "\u6587\u5b57\u5217\u7de8\u96c6\u554f\u984c\u3068\u306f\u3001\u3042\u308b\u6587\u5b57\u5217\u3092\u5225\u306e\u3042\u308b\u6c7a\u3081\u3089\u308c\u305f\u6587\u5b57\u5217\u3078\u3001\u3069\u308c\u3060\u3051\u5c11\u306a\u3044\u968e\u6570\u306e **\u7de8\u96c6** \u3067\u5909\u63db\u3067\u304d\u308b\u304b\u3001\u305d\u306e\u56de\u6570\u3068\u7de8\u96c6\u306e\u65b9\u6cd5\u3092\u6c42\u3081\u308b\u554f\u984c\u3067\u3059\u3002\n",
      "\n",
      "\u7de8\u96c6\u306e\u65b9\u6cd5\u306f **\u7f6e\u63db**\uff08\u4f8b\uff1a'a' \u3092 'b' \u306b\u63db\u3048\u308b\uff09\u3001**\u633f\u5165**\uff08\u4f8b\uff1a'ac' \u306b 'b' \u3092\u5dee\u3057\u8fbc\u3093\u3067 'abc' \u306b\u3059\u308b\uff09\u3001**\u524a\u9664**\uff08\u4f8b\uff1a'abc' \u304b\u3089 'b' \u3092\u53d6\u308a\u53bb\u3063\u3066 'ac' \u306b\u3059\u308b\uff09\u306e\uff13\u7a2e\u985e\u3067\u3059\u3002\n",
      "\n",
      "\u4f8b\u3068\u3057\u3066\u3001'rent' \u3092 'let' \u306b\u5909\u63db\u3059\u308b\u5834\u5408\u3092\u8003\u3048\u3066\u307f\u307e\u3059\u3002\n",
      "\n",
      "1. 'r' \u3092 'l' \u3067\u7f6e\u63db\u3059\u308b\u3002\n",
      "2. 'n' \u3092\u524a\u9664\u3059\u308b\u3002\n",
      "\n",
      "\u3053\u306e\u5834\u5408\u3001**\u7de8\u96c6\u8ddd\u96e2** \u306f\uff12\u3067\u3042\u308b\u3068\u3057\u307e\u3059\u3002"
     ]
    },
    {
     "cell_type": "heading",
     "level": 2,
     "metadata": {},
     "source": [
      "\u554f\u984c"
     ]
    },
    {
     "cell_type": "markdown",
     "metadata": {},
     "source": [
      "\u907a\u4f1d\u5b50\u914d\u5217 'TAGATGGTCT' \u3092 'TGGAGACAGTCT' \u306b\u5909\u63db\u3059\u308b\u306b\u306f\u6700\u4f4e\u4f55\u56de\u306e\u7de8\u96c6\u304c\u5fc5\u8981\u3067\u3057\u3087\u3046\u304b\u3002"
     ]
    },
    {
     "cell_type": "heading",
     "level": 3,
     "metadata": {},
     "source": [
      "\u30d2\u30f3\u30c8"
     ]
    },
    {
     "cell_type": "markdown",
     "metadata": {},
     "source": [
      "\u52d8\u306b\u983c\u3089\u305a\u3001\u8ad6\u7406\u7684\u306b\u898b\u9003\u3057\u306e\u306a\u3044\u3088\u3046\u306b\u8a70\u3081\u3066\u3044\u304f\u65b9\u6cd5\u3092\u8003\u3048\u307e\u3057\u3087\u3046\u3002\n",
      "\n",
      "\u307e\u305a\u306f\u3001\u77ed\u3044\u6587\u5b57\u5217\u3067\u8003\u3048\u3066\u307f\u307e\u3057\u3087\u3046\u3002\u4f8b\u3048\u3070\u3001\u6587\u5b57\u5217\u306e\u4e00\u90e8\u3067\u3042\u308b 'AGA' \u304b\u3089'TGGAG' \u3078\u306e\u7de8\u96c6\u3092\u8003\u3048\u3066\u307f\u307e\u3059\u3002"
     ]
    },
    {
     "cell_type": "markdown",
     "metadata": {},
     "source": [
      "|       |   | T | G | G | A | G |\n",
      "|-------|---|---|---|---|---|---|\n",
      "|       | 0 | 1 | 2 | 3 | 4 | 5 |\n",
      "| **A** | 1 |   |   |   |   |   |\n",
      "| **G** | 2 |   |   |   |   |   |\n",
      "| **A** | 3 |   |   |   |   |   |"
     ]
    },
    {
     "cell_type": "code",
     "collapsed": false,
     "input": [],
     "language": "python",
     "metadata": {},
     "outputs": []
    }
   ],
   "metadata": {}
  }
 ]
}