{
 "metadata": {
  "name": "",
  "signature": "sha256:bf54c76855b147e54d89fd216b4991b3ee715caf22b3e95b59c73b99f17f0cb6"
 },
 "nbformat": 3,
 "nbformat_minor": 0,
 "worksheets": [
  {
   "cells": [
    {
     "cell_type": "heading",
     "level": 1,
     "metadata": {},
     "source": [
      "\u7b2c\uff14\u56de\u3000\u30e2\u30c7\u30eb\u306e\u69cb\u9020\uff08\uff12\uff09"
     ]
    },
    {
     "cell_type": "heading",
     "level": 2,
     "metadata": {},
     "source": [
      "E-Cell \u306b\u304a\u3051\u308b\u30e2\u30c7\u30eb\u306e\u30aa\u30d6\u30b8\u30a7\u30af\u30c8\u69cb\u6210"
     ]
    },
    {
     "cell_type": "markdown",
     "metadata": {},
     "source": [
      "E-Cell Fundamentals p22\u301c"
     ]
    },
    {
     "cell_type": "heading",
     "level": 3,
     "metadata": {},
     "source": [
      "Q4-1 Entity \u306e\u610f\u5473\u3065\u3051"
     ]
    },
    {
     "cell_type": "markdown",
     "metadata": {},
     "source": [
      "System, Variable, Process \u3068\u306f\u4f55\u304b\u3001\u8aac\u660e\u3057\u3066\u304f\u3060\u3055\u3044\u3002"
     ]
    },
    {
     "cell_type": "heading",
     "level": 4,
     "metadata": {},
     "source": [
      "\u89e3\u7b54\u6b04"
     ]
    },
    {
     "cell_type": "markdown",
     "metadata": {},
     "source": [
      "* System\n",
      "    * \uff08\u884c\u982d\u306b\u300c`*`\u300d\u3092\u3064\u3051\u308b\u3068\u7b87\u6761\u66f8\u304d\u306b\u306a\u308a\u307e\u3059\u3002\u300c`*`\u300d\u306e\u76f4\u5f8c\u306b\u7a7a\u767d\u6587\u5b57\u304c\u5fc5\u8981\u3067\u3059\u3002\uff09\n",
      "    * \uff08\u968e\u5c64\u5316\u3059\u308b\u306b\u306f\u3001\u884c\u982d\u306e\u300c`*`\u300d\u306e\u524d\u306b\u30b9\u30da\u30fc\u30b9\uff14\u6587\u5b57\u307e\u305f\u306f\u30bf\u30d6\uff11\u6587\u5b57\u3092\u5165\u308c\u307e\u3059\u3002\uff09\n",
      "* Variable\n",
      "    * \u25cb\u25cb\u2026\u2026\n",
      "* Process\n",
      "    * \u25cb\u25cb\u2026\u2026"
     ]
    },
    {
     "cell_type": "heading",
     "level": 3,
     "metadata": {},
     "source": [
      "Q4-2 SystemPath\uff08E-Cell Fundamentals p24\u301c\uff09"
     ]
    },
    {
     "cell_type": "markdown",
     "metadata": {},
     "source": [
      "\u4e0b\u306e\u56f3\u306e\u7d30\u80de\u306e\u69cb\u9020\u3092 SystemPath \u3067\u8a18\u8ff0\u3057\u3066\u304f\u3060\u3055\u3044\u3002\u7d30\u80de\u305d\u306e\u3082\u306e\u307e\u3067\u306e\u30d1\u30b9\u69cb\u9020\u306f\u4ee5\u4e0b\u306e\u901a\u308a\u3068\u3057\u307e\u3059\u3002\n",
      "\n",
      "* `/`\n",
      "* `/cell`\n",
      "\n",
      "<img src=\"http://creationwiki.org/pool/images/6/63/Biological_cell.png\" alt=\"cell\" width=\"600\">\n",
      "\n",
      "(1) nucleolus (2) nucleus (3) ribosome (4) vesicle (5) rER (rough endoplasmic reticulum) (6) golgi (golgi apparatus) (7) cytoskeleton (8) sER (smooth ER) (9) mitochondria (10) vacuole (11) cytoplasm (12) lysosome (13) centrioles\n",
      "\n",
      "* \u753b\u50cf\u306e\u51fa\u5178\uff1ahttp://creationwiki.org/Cellular_organelle"
     ]
    },
    {
     "cell_type": "heading",
     "level": 4,
     "metadata": {},
     "source": [
      "\u89e3\u7b54\u6b04"
     ]
    },
    {
     "cell_type": "markdown",
     "metadata": {},
     "source": [
      "\uff08Q4-2\u89e3\u7b54\u6b04\uff09"
     ]
    },
    {
     "cell_type": "heading",
     "level": 2,
     "metadata": {},
     "source": [
      "FullID"
     ]
    },
    {
     "cell_type": "markdown",
     "metadata": {},
     "source": [
      "E-Cell Fundamentals p24\u301c\n",
      "\n",
      "**\u533a\u5207\u308a\u6587\u5b57**\u3000`:`\uff08\u30b3\u30ed\u30f3\uff09\n",
      "\n",
      "**\u66f8\u5f0f**\u3000<span style=\"font-size:150%;\">_`Entity\u540d`_:_`SystemPath`_:_`ID`_</span>\n",
      "\n",
      "* Entity\u540d\u304c\u30b3\u30f3\u30c6\u30af\u30b9\u30c8\u3088\u308a\u81ea\u660e\u306e\u5834\u5408\u3001\u7701\u7565\u3067\u304d\u308b\u3002\n",
      "* System path \u306b\u306f\u3001\u76f8\u5bfe\u30d1\u30b9\uff08`\".\"`, `\"..\"`\uff09\u3092\u4f7f\u7528\u3067\u304d\u308b\u3002"
     ]
    },
    {
     "cell_type": "heading",
     "level": 3,
     "metadata": {},
     "source": [
      "Q4-3"
     ]
    },
    {
     "cell_type": "markdown",
     "metadata": {},
     "source": [
      "`BIOMD0000000005.em` \u306b\u542b\u307e\u308c\u308b\u3059\u3079\u3066\u306e Entity \u30aa\u30d6\u30b8\u30a7\u30af\u30c8\u3092 FullID \u3067\u30ea\u30b9\u30c8\u3057\u3066\u304f\u3060\u3055\u3044\u3002"
     ]
    },
    {
     "cell_type": "heading",
     "level": 4,
     "metadata": {},
     "source": [
      "\u89e3\u7b54\u6b04"
     ]
    },
    {
     "cell_type": "markdown",
     "metadata": {},
     "source": [
      "* \uff08Q4-3\u89e3\u7b54\u6b04\uff09"
     ]
    },
    {
     "cell_type": "heading",
     "level": 2,
     "metadata": {},
     "source": [
      "EM \u30d5\u30a1\u30a4\u30eb\u306e\u69cb\u9020"
     ]
    },
    {
     "cell_type": "markdown",
     "metadata": {},
     "source": [
      "E-Cell Fundamentals p27\u301c\n",
      "\n",
      "```{Entity\u540d} {\u30af\u30e9\u30b9\u540d}( \u30aa\u30d6\u30b8\u30a7\u30af\u30c8\u540d )\n",
      "    {\n",
      "        \u5c5e\u6027\u540d1  \u5c5e\u6027\u50241;\n",
      "        \u5c5e\u6027\u540d2  \u5c5e\u6027\u50242;\n",
      "          :\n",
      "          :\n",
      "    }```\n",
      "    "
     ]
    },
    {
     "cell_type": "heading",
     "level": 3,
     "metadata": {},
     "source": [
      "\u5c5e\u6027\u306e\u8868\u8a18\u65b9\u6cd5"
     ]
    },
    {
     "cell_type": "markdown",
     "metadata": {},
     "source": [
      "**\u533a\u5207\u308a\u6587\u5b57**\u3000\u7a7a\u767d\u6587\u5b57\uff08\u30b9\u30da\u30fc\u30b9\u3001\u30bf\u30d6\u3001\u6539\u884c\uff09\n",
      "\n",
      "**\u672b\u5c3e**\u3000`;`\uff08\u30bb\u30df\u30b3\u30ed\u30f3\uff09\n",
      "\n",
      "**\u66f8\u5f0f**\u3000<span style=\"font-size:150%;\">_`\u5c5e\u6027\u540d`_ _`\u5c5e\u6027\u50241`_ _`\u5c5e\u6027\u50242`_ \u2026\u2026 ;</span>\n"
     ]
    },
    {
     "cell_type": "heading",
     "level": 3,
     "metadata": {},
     "source": [
      "\u4f8b"
     ]
    },
    {
     "cell_type": "markdown",
     "metadata": {},
     "source": [
      "```    Variable Variable( M )\n",
      "    {\n",
      "        Name    \"p-cyclin_cdc2\";\n",
      "        Value    0.0;\n",
      "        Fixed    0;\n",
      "    }```\n",
      "\n",
      "\u6539\u884c\u6587\u5b57\u3082\u7a7a\u767d\u6587\u5b57\u306e\u4e00\u7a2e\u306a\u306e\u3067\u3001\u4e0a\u306e\u4f8b\u306f\u3001\u4e0b\u306e\u8868\u8a18\u3068\u7b49\u4fa1\u3067\u3059\u3002\n",
      "\n",
      "```Variable Variable( M ) { Name \"p-cyclin_cdc2\"; Value 0.0; Fixed 0;}```\n",
      "\n"
     ]
    },
    {
     "cell_type": "heading",
     "level": 2,
     "metadata": {},
     "source": [
      "\u30e2\u30c7\u30eb\u5185\u306e\u201c\u3067\u304d\u3054\u3068\u201d\u306e\u8a18\u8ff0"
     ]
    },
    {
     "cell_type": "markdown",
     "metadata": {},
     "source": [
      "\u3069\u3053\uff08`System`\uff09\u3067\u3001\u4f55\uff08`Variable`\uff09\u304c\u3001\u3069\u306e\u3088\u3046\u306b\u76f8\u4e92\u4f5c\u7528\u3059\u308b\uff08`Process`\uff09\u304b\uff1f"
     ]
    },
    {
     "cell_type": "heading",
     "level": 3,
     "metadata": {},
     "source": [
      "\u3069\u3053\u306b\u3042\u308b\u306e\u304b\u3001\u3069\u3053\u3067\u8d77\u3053\u308b\u306e\u304b\u3001\u306e\u8a18\u8ff0"
     ]
    },
    {
     "cell_type": "markdown",
     "metadata": {},
     "source": [
      "`Variable` \u3068 `Process` \u306f\u3001`System` \u306e\u5c5e\u6027\u3067\u3042\u308b\u304b\u306e\u3088\u3046\u306b\u8a18\u8ff0\u3055\u308c\u308b\u3002"
     ]
    },
    {
     "cell_type": "heading",
     "level": 4,
     "metadata": {},
     "source": [
      "\u4f8b"
     ]
    },
    {
     "cell_type": "markdown",
     "metadata": {},
     "source": [
      "```System System( /cell )\n",
      "{\n",
      "    Variable Variable( M )\n",
      "    {\n",
      "        Name    \"p-cyclin_cdc2\";\n",
      "        Value    0.0;\n",
      "        Fixed    0;\n",
      "    }\n",
      "}```"
     ]
    },
    {
     "cell_type": "heading",
     "level": 3,
     "metadata": {},
     "source": [
      "\u4f55\u304c\u8d77\u3053\u308b\u306e\u304b\uff08= Process\uff09\u306e\u8a18\u8ff0"
     ]
    },
    {
     "cell_type": "heading",
     "level": 4,
     "metadata": {},
     "source": [
      "VariableReferenceList \u5c5e\u6027"
     ]
    },
    {
     "cell_type": "markdown",
     "metadata": {},
     "source": [
      "* \u53cd\u5fdc\u306b\u95a2\u4fc2\u3059\u308b Variable \u3068\u306e\u95a2\u4fc2\u3092\u8a18\u8ff0\u3059\u308b\u5c5e\u6027\n",
      "* \u5c5e\u6027\u5024\u306f\uff11\u3064\u307e\u305f\u306f\u8907\u6570\u3002\u305d\u308c\u305e\u308c\u306e\u5c5e\u6027\u5024\u306f\u3001** \u3072\u3068\u3064\u306e Variable** \u306b\u3064\u3044\u3066\u3001\u305d\u306e **FullID**\u3001**\u5316\u5b66\u91cf\u8ad6\u4fc2\u6570**\u3001Process\u5185\u3067\u306e**\u53c2\u7167\u540d**\uff08\u30cb\u30c3\u30af\u30cd\u30fc\u30e0\uff09\u3092\u4e0e\u3048\u308b\u3002\n",
      "    * **\u5c5e\u6027\u5024\u306e\u66f8\u5f0f**\u3000<span style=\"font-size:150%;\">[ _`\u53c2\u7167\u540d`_   _`FullID`_   _`\u5316\u5b66\u91cf\u8ad6\u4fc2\u6570`_ ]</span>\n",
      "        * **\u533a\u5207\u308a\u6587\u5b57**\u3000\u30b9\u30da\u30fc\u30b9\n",
      "        * \u5192\u982d\u3068\u672b\u5c3e\u3092 **`[ ]`** \u3067\u62ec\u308a\u307e\u3059\n",
      "        * \u5c5e\u6027\u5024\u306e Entity \u306f\u5fc5\u305a Variable \u306a\u306e\u3067\u3001FullID \u306eEntity\u540d \u306f\u7701\u7565\u53ef\u80fd\n"
     ]
    },
    {
     "cell_type": "heading",
     "level": 4,
     "metadata": {},
     "source": [
      "\u4f8b"
     ]
    },
    {
     "cell_type": "markdown",
     "metadata": {},
     "source": [
      "```Process ExpressionFluxProcess( Reaction1 )\n",
      "{\n",
      "    Name  \"cyclin_cdc2k dissociation\";\n",
      "    k6  1.0;\n",
      "    Expression  \"cell.Value * k6 * M.NumberConc\";\n",
      "    VariableReferenceList\n",
      "        [ M    Variable:/cell:M    -1 ]\n",
      "        [ C2   Variable:/cell:C2   1  ]\n",
      "        [ YP   Variable:/cell:YP   1  ]\n",
      "        [ cell Variable:/cell:SIZE 0  ];\n",
      "}```\n"
     ]
    },
    {
     "cell_type": "markdown",
     "metadata": {},
     "source": [
      "ExpressionFluxProcess \u3067\u306f\u3001Expression \u5c5e\u6027\u306b\u53cd\u5fdc\u901f\u5ea6\u5f0f\u3092\u66f8\u304d\u307e\u3059\u3002\u305d\u306e\u66f8\u5f0f\u306f\u3001E-Cell Fundamentals p48\u301c \uff08ExpressionAssignmentProcess \u306e\u9805\uff09\u3092\u53c2\u7167\u3057\u3066\u304f\u3060\u3055\u3044\u3002"
     ]
    },
    {
     "cell_type": "heading",
     "level": 3,
     "metadata": {},
     "source": [
      "Q4-4"
     ]
    },
    {
     "cell_type": "markdown",
     "metadata": {},
     "source": [
      "`BIOMD0000000005.em` \u306b\u542b\u307e\u308c\u308b\u4ee5\u4e0b\u306e Variable \u30aa\u30d6\u30b8\u30a7\u30af\u30c8\u306e\u305d\u308c\u305e\u308c\u306b\u3064\u3044\u3066\u3001\u95a2\u9023\u3059\u308b Process \u3092\u3059\u3079\u3066 FullID \u3067\u66f8\u304d\u3060\u3057\u3001\u5316\u5b66\u91cf\u8ad6\u4fc2\u6570\u3092\u30ab\u30c3\u30b3\u66f8\u304d\u3067\u4ed8\u3051\u3066\u304f\u3060\u3055\u3044\u3002\u89e3\u7b54\u6b04\u306b Reaction1 \u306b\u3064\u3044\u3066\u4f8b\u793a\u3057\u307e\u3059\u3002\n",
      "\n",
      "* :/cell:C2\n",
      "* :/cell:CP\n",
      "* :/cell:M\n",
      "* :/cell:pM\n",
      "* :/cell:Y\n",
      "* :/cell:YP\n",
      "* :/cell:YT\n",
      "* :/cell:CT\n"
     ]
    },
    {
     "cell_type": "heading",
     "level": 4,
     "metadata": {},
     "source": [
      "\u89e3\u7b54\u6b04"
     ]
    },
    {
     "cell_type": "markdown",
     "metadata": {},
     "source": [
      "`Process:/:Reaction1` \u306b\u3064\u3044\u3066\u306f\u8a18\u5165\u6e08\u307f\u3002\n",
      "\n",
      "* :/cell:C2\n",
      "    * :/:Reaction1  (1)\n",
      "* :/cell:CP\n",
      "* :/cell:M\n",
      "    * :/:Reaction1  (-1)\n",
      "* :/cell:pM\n",
      "* :/cell:Y\n",
      "* :/cell:YP\n",
      "    * :/:Reaction1  (1)\n",
      "* :/cell:YT\n",
      "* :/cell:CT\n"
     ]
    }
   ],
   "metadata": {}
  }
 ]
}