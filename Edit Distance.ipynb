{
 "metadata": {
  "name": "",
  "signature": "sha256:3b8179c3363ea8522b6fd232a48ebc86ec98696d2573c44e0cc490b120de5e5b"
 },
 "nbformat": 3,
 "nbformat_minor": 0,
 "worksheets": [
  {
   "cells": [
    {
     "cell_type": "heading",
     "level": 1,
     "metadata": {},
     "source": [
      "\u7de8\u96c6\u8ddd\u96e2\u3092\u7b97\u51fa\u3059\u308b\u30d7\u30ed\u30b0\u30e9\u30e0\u306e\u4f8b"
     ]
    },
    {
     "cell_type": "code",
     "collapsed": false,
     "input": [
      "import numpy as np"
     ],
     "language": "python",
     "metadata": {},
     "outputs": [],
     "prompt_number": 1
    },
    {
     "cell_type": "heading",
     "level": 3,
     "metadata": {},
     "source": [
      "\u5ea7\u6a19 _i_, _j_ \u306e\u7de8\u96c6\u8ddd\u96e2\u7b97\u51fa\u3059\u308b\u30e1\u30bd\u30c3\u30c9 _minimum_distance_at()_"
     ]
    },
    {
     "cell_type": "code",
     "collapsed": false,
     "input": [
      "def minimum_distance_at( i, j, matrix, _start, _end ):\n",
      "    \n",
      "    up   = matrix[ i - 1, j ]\n",
      "    left = matrix[ i, j - 1 ]\n",
      "    \n",
      "    if _start[ i ] == _end[ j ]:\n",
      "        up_left = matrix[ i - 1, j - 1 ] - 1\n",
      "    else:\n",
      "        up_left = matrix[ i - 1, j - 1 ]\n",
      "    \n",
      "    return min(( up, left, up_left )) + 1"
     ],
     "language": "python",
     "metadata": {},
     "outputs": [],
     "prompt_number": 2
    },
    {
     "cell_type": "heading",
     "level": 3,
     "metadata": {},
     "source": [
      "\u5f15\u6570 _start_, _end_ \u306e\u9593\u306e\u7de8\u96c6\u8ddd\u96e2\u3092\u7b97\u51fa\u3059\u308b\u30e1\u30bd\u30c3\u30c9 _edit_distance()_"
     ]
    },
    {
     "cell_type": "code",
     "collapsed": false,
     "input": [
      "def edit_distance( start, end ):\n",
      "    \n",
      "    _start = ' ' + start\n",
      "    _end   = ' ' + end\n",
      "    \n",
      "    i_size = len( _start )\n",
      "    j_size = len( _end )\n",
      "    \n",
      "    matrix_size = ( i_size, j_size )\n",
      "    matrix = np.zeros( matrix_size, dtype = np.int8 )\n",
      "        \n",
      "    for i in np.arange( matrix_size[ 0 ] ):\n",
      "        matrix[ i, 0 ] = i\n",
      "    for j in np.arange( matrix_size[ 1 ] ):\n",
      "        matrix[ 0, j ] = j\n",
      "    \n",
      "    for i in np.arange( 1, matrix_size[ 0 ] ):\n",
      "        for j in np.arange( 1, matrix_size[ 1 ] ):\n",
      "            matrix[ i, j ] = minimum_distance_at( i, j, matrix, _start, _end )\n",
      "    \n",
      "    return matrix[ -1, -1 ]\n"
     ],
     "language": "python",
     "metadata": {},
     "outputs": [],
     "prompt_number": 3
    },
    {
     "cell_type": "heading",
     "level": 3,
     "metadata": {},
     "source": [
      "\u5b9f\u969b\u306b\u7de8\u96c6\u8ddd\u96e2\u3092\u7b97\u51fa"
     ]
    },
    {
     "cell_type": "code",
     "collapsed": false,
     "input": [
      "start = 'AGA'\n",
      "end   = 'TGGAG'\n",
      "\n",
      "print 'Edit distance = {}'.format( edit_distance( start, end ) )"
     ],
     "language": "python",
     "metadata": {},
     "outputs": [
      {
       "output_type": "stream",
       "stream": "stdout",
       "text": [
        "Edit distance = 3\n"
       ]
      }
     ],
     "prompt_number": 6
    },
    {
     "cell_type": "code",
     "collapsed": false,
     "input": [
      "start = 'TAGATGGTCT'\n",
      "end   = 'TGGAGACAGTCT'\n",
      "\n",
      "print 'Edit distance = {}'.format( edit_distance( start, end ) )"
     ],
     "language": "python",
     "metadata": {},
     "outputs": [
      {
       "output_type": "stream",
       "stream": "stdout",
       "text": [
        "Edit distance = 4\n"
       ]
      }
     ],
     "prompt_number": 7
    },
    {
     "cell_type": "code",
     "collapsed": false,
     "input": [],
     "language": "python",
     "metadata": {},
     "outputs": []
    }
   ],
   "metadata": {}
  }
 ]
}