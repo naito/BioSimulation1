{
 "metadata": {
  "name": "",
  "signature": "sha256:d013204df735accb1042ba8982e8981c438b745d172cff87a14e20dfa68ea09b"
 },
 "nbformat": 3,
 "nbformat_minor": 0,
 "worksheets": [
  {
   "cells": [
    {
     "cell_type": "heading",
     "level": 1,
     "metadata": {},
     "source": [
      "\u6587\u5b57\u5217\u7de8\u96c6\u554f\u984c"
     ]
    },
    {
     "cell_type": "markdown",
     "metadata": {},
     "source": [
      "\u6587\u5b57\u5217\u7de8\u96c6\u554f\u984c\u3068\u306f\u3001\u3042\u308b\u6587\u5b57\u5217\u3092\u5225\u306e\u3042\u308b\u6c7a\u3081\u3089\u308c\u305f\u6587\u5b57\u5217\u3078\u3001\u3069\u308c\u3060\u3051\u5c11\u306a\u3044\u968e\u6570\u306e **\u7de8\u96c6** \u3067\u5909\u63db\u3067\u304d\u308b\u304b\u3001\u305d\u306e\u56de\u6570\u3068\u7de8\u96c6\u306e\u65b9\u6cd5\u3092\u6c42\u3081\u308b\u554f\u984c\u3067\u3059\u3002\n",
      "\n",
      "\u7de8\u96c6\u306e\u65b9\u6cd5\u306f **\u7f6e\u63db**\uff08\u4f8b\uff1a`'a'` \u3092 `'b'` \u306b\u63db\u3048\u308b\uff09\u3001**\u633f\u5165**\uff08\u4f8b\uff1a`'ac'` \u306b `'b'` \u3092\u5dee\u3057\u8fbc\u3093\u3067 `'abc'` \u306b\u3059\u308b\uff09\u3001**\u524a\u9664**\uff08\u4f8b\uff1a`'abc'` \u304b\u3089 `'b'` \u3092\u53d6\u308a\u53bb\u3063\u3066 `'ac'` \u306b\u3059\u308b\uff09\u306e\uff13\u7a2e\u985e\u3067\u3059\u3002\n",
      "\n",
      "\u4f8b\u3068\u3057\u3066\u3001'rent' \u3092 'let' \u306b\u5909\u63db\u3059\u308b\u5834\u5408\u3092\u8003\u3048\u3066\u307f\u307e\u3059\u3002\n",
      "\n",
      "1. `'r'` \u3092 `'l'` \u3067\u7f6e\u63db\u3059\u308b\u3002\n",
      "2. `'n'` \u3092\u524a\u9664\u3059\u308b\u3002\n",
      "\n",
      "\u3053\u306e\u5834\u5408\u3001**\u7de8\u96c6\u8ddd\u96e2** \u306f\uff12\u3067\u3042\u308b\u3068\u3057\u307e\u3059\u3002"
     ]
    },
    {
     "cell_type": "heading",
     "level": 2,
     "metadata": {},
     "source": [
      "\u554f\u984c"
     ]
    },
    {
     "cell_type": "markdown",
     "metadata": {},
     "source": [
      "\u907a\u4f1d\u5b50\u914d\u5217 `'TAGATGGTCT'` \u3092 `'TGGAGACAGTCT'` \u306b\u5909\u63db\u3059\u308b\u306b\u306f\u6700\u4f4e\u4f55\u56de\u306e\u7de8\u96c6\u304c\u5fc5\u8981\u3067\u3057\u3087\u3046\u304b\u3002"
     ]
    },
    {
     "cell_type": "heading",
     "level": 3,
     "metadata": {},
     "source": [
      "\u30d2\u30f3\u30c8"
     ]
    },
    {
     "cell_type": "markdown",
     "metadata": {},
     "source": [
      "\u52d8\u306b\u983c\u3089\u305a\u3001\u8ad6\u7406\u7684\u306b\u898b\u9003\u3057\u306e\u306a\u3044\u3088\u3046\u306b\u8a70\u3081\u3066\u3044\u304f\u65b9\u6cd5\u3092\u8003\u3048\u307e\u3057\u3087\u3046\u3002\n",
      "\n",
      "\u307e\u305a\u306f\u3001\u77ed\u3044\u6587\u5b57\u5217\u3067\u8003\u3048\u3066\u307f\u307e\u3057\u3087\u3046\u3002\u4f8b\u3048\u3070\u3001\u6587\u5b57\u5217\u306e\u4e00\u90e8\u3067\u3042\u308b `'AGA'` \u304b\u3089`'TGGAG'` \u3078\u306e\u7de8\u96c6\u3092\u8003\u3048\u3066\u307f\u307e\u3059\u3002"
     ]
    },
    {
     "cell_type": "markdown",
     "metadata": {},
     "source": [
      "|       |   | T | G | G | A | G |\n",
      "|-------|---|---|---|---|---|---|\n",
      "|       | 0 | 1 | 2 | 3 | 4 | 5 |\n",
      "| **A** | 1 |   |   |   |   |   |\n",
      "| **G** | 2 |   |   |   |   |   |\n",
      "| **A** | 3 |   |   |   |   |   |"
     ]
    },
    {
     "cell_type": "heading",
     "level": 2,
     "metadata": {},
     "source": [
      "\u7de8\u96c6\u8ddd\u96e2\u3092\u7b97\u51fa\u3059\u308b\u30d7\u30ed\u30b0\u30e9\u30e0\u306e\u4f8b"
     ]
    },
    {
     "cell_type": "code",
     "collapsed": false,
     "input": [
      "import numpy as np"
     ],
     "language": "python",
     "metadata": {},
     "outputs": [],
     "prompt_number": 1
    },
    {
     "cell_type": "heading",
     "level": 3,
     "metadata": {},
     "source": [
      "\u5ea7\u6a19 _i_, _j_ \u306e\u7de8\u96c6\u8ddd\u96e2\u7b97\u51fa\u3059\u308b\u30e1\u30bd\u30c3\u30c9 _minimum_distance_at()_"
     ]
    },
    {
     "cell_type": "code",
     "collapsed": false,
     "input": [
      "def minimum_distance_at( i, j, matrix, _start, _end ):\n",
      "    \n",
      "    up   = matrix[ i - 1, j ]\n",
      "    left = matrix[ i, j - 1 ]\n",
      "    \n",
      "    if _start[ i ] == _end[ j ]:\n",
      "        up_left = matrix[ i - 1, j - 1 ] - 1\n",
      "    else:\n",
      "        up_left = matrix[ i - 1, j - 1 ]\n",
      "    \n",
      "    return min(( up, left, up_left )) + 1"
     ],
     "language": "python",
     "metadata": {},
     "outputs": [],
     "prompt_number": 2
    },
    {
     "cell_type": "heading",
     "level": 3,
     "metadata": {},
     "source": [
      "\u5f15\u6570 _start_, _end_ \u306e\u9593\u306e\u7de8\u96c6\u8ddd\u96e2\u3092\u7b97\u51fa\u3059\u308b\u30e1\u30bd\u30c3\u30c9 _edit_distance()_"
     ]
    },
    {
     "cell_type": "code",
     "collapsed": false,
     "input": [
      "def edit_distance( start, end ):\n",
      "    \n",
      "    _start = ' ' + start\n",
      "    _end   = ' ' + end\n",
      "    \n",
      "    i_size = len( _start )\n",
      "    j_size = len( _end )\n",
      "    \n",
      "    matrix_size = ( i_size, j_size )\n",
      "    matrix = np.zeros( matrix_size, dtype = np.int8 )\n",
      "        \n",
      "    for i in np.arange( matrix_size[ 0 ] ):\n",
      "        matrix[ i, 0 ] = i\n",
      "    for j in np.arange( matrix_size[ 1 ] ):\n",
      "        matrix[ 0, j ] = j\n",
      "    \n",
      "    for i in np.arange( 1, matrix_size[ 0 ] ):\n",
      "        for j in np.arange( 1, matrix_size[ 1 ] ):\n",
      "            matrix[ i, j ] = minimum_distance_at( i, j, matrix, _start, _end )\n",
      "    \n",
      "    return matrix[ -1, -1 ]\n"
     ],
     "language": "python",
     "metadata": {},
     "outputs": [],
     "prompt_number": 3
    },
    {
     "cell_type": "heading",
     "level": 3,
     "metadata": {},
     "source": [
      "\u5b9f\u969b\u306b\u7de8\u96c6\u8ddd\u96e2\u3092\u7b97\u51fa"
     ]
    },
    {
     "cell_type": "code",
     "collapsed": false,
     "input": [
      "start = 'AGA'\n",
      "end   = 'TGGAG'\n",
      "\n",
      "print 'Edit distance = {}'.format( edit_distance( start, end ) )"
     ],
     "language": "python",
     "metadata": {},
     "outputs": [
      {
       "output_type": "stream",
       "stream": "stdout",
       "text": [
        "Edit distance = 3\n"
       ]
      }
     ],
     "prompt_number": 6
    },
    {
     "cell_type": "code",
     "collapsed": false,
     "input": [
      "start = 'TAGATGGTCT'\n",
      "end   = 'TGGAGACAGTCT'\n",
      "\n",
      "print 'Edit distance = {}'.format( edit_distance( start, end ) )"
     ],
     "language": "python",
     "metadata": {},
     "outputs": [
      {
       "output_type": "stream",
       "stream": "stdout",
       "text": [
        "Edit distance = 4\n"
       ]
      }
     ],
     "prompt_number": 7
    },
    {
     "cell_type": "code",
     "collapsed": false,
     "input": [],
     "language": "python",
     "metadata": {},
     "outputs": []
    }
   ],
   "metadata": {}
  }
 ]
}