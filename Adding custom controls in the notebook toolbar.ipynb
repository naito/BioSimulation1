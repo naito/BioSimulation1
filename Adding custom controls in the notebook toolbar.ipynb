{
 "metadata": {
  "name": "",
  "signature": "sha256:6458972f543b4b473579039b0efba412eda34ca01666f83b402d4267b1667d62"
 },
 "nbformat": 3,
 "nbformat_minor": 0,
 "worksheets": [
  {
   "cells": [
    {
     "cell_type": "markdown",
     "metadata": {},
     "source": [
      "http://nbviewer.ipython.org/github/dboyliao/cookbook-code/blob/master/notebooks/chapter03_notebook/03_controls.ipynb"
     ]
    },
    {
     "cell_type": "code",
     "collapsed": false,
     "input": [
      "%%javascript\n",
      "// This function allows us to add buttons \n",
      "// to the notebook toolbar.\n",
      "IPython.toolbar.add_buttons_group([\n",
      "{\n",
      "    // The button's label.\n",
      "    'label': 'renumber all code cells',\n",
      "    \n",
      "    // The button's icon.\n",
      "    // See a list of Font-Awesome icons here:\n",
      "    // http://fortawesome.github.io/Font-Awesome/icons/\n",
      "    'icon': 'icon-list-ol',\n",
      "    \n",
      "    // The callback function.\n",
      "    'callback': function () {\n",
      "        \n",
      "        // We retrieve the lists of all cells.\n",
      "        var cells = IPython.notebook.get_cells();\n",
      "        \n",
      "        // We only keep the code cells.\n",
      "        cells = cells.filter(function(c)\n",
      "            {\n",
      "                return c instanceof IPython.CodeCell; \n",
      "            })\n",
      "        \n",
      "        // We set the input prompt of all code cells.\n",
      "        for (var i = 0; i < cells.length; i++) {\n",
      "            cells[i].set_input_prompt(i + 1);\n",
      "        }\n",
      "    }\n",
      "}]);"
     ],
     "language": "python",
     "metadata": {},
     "outputs": [
      {
       "javascript": [
        "// This function allows us to add buttons \n",
        "// to the notebook toolbar.\n",
        "IPython.toolbar.add_buttons_group([\n",
        "{\n",
        "    // The button's label.\n",
        "    'label': 'renumber all code cells',\n",
        "    \n",
        "    // The button's icon.\n",
        "    // See a list of Font-Awesome icons here:\n",
        "    // http://fortawesome.github.io/Font-Awesome/icons/\n",
        "    'icon': 'icon-list-ol',\n",
        "    \n",
        "    // The callback function.\n",
        "    'callback': function () {\n",
        "        \n",
        "        // We retrieve the lists of all cells.\n",
        "        var cells = IPython.notebook.get_cells();\n",
        "        \n",
        "        // We only keep the code cells.\n",
        "        cells = cells.filter(function(c)\n",
        "            {\n",
        "                return c instanceof IPython.CodeCell; \n",
        "            })\n",
        "        \n",
        "        // We set the input prompt of all code cells.\n",
        "        for (var i = 0; i < cells.length; i++) {\n",
        "            cells[i].set_input_prompt(i + 1);\n",
        "        }\n",
        "    }\n",
        "}]);"
       ],
       "metadata": {},
       "output_type": "display_data",
       "text": [
        "<IPython.core.display.Javascript at 0x101994350>"
       ]
      }
     ],
     "prompt_number": 2
    },
    {
     "cell_type": "code",
     "collapsed": false,
     "input": [],
     "language": "python",
     "metadata": {},
     "outputs": [],
     "prompt_number": 3
    },
    {
     "cell_type": "code",
     "collapsed": false,
     "input": [],
     "language": "python",
     "metadata": {},
     "outputs": [],
     "prompt_number": 4
    },
    {
     "cell_type": "code",
     "collapsed": false,
     "input": [],
     "language": "python",
     "metadata": {},
     "outputs": [],
     "prompt_number": 5
    }
   ],
   "metadata": {}
  }
 ]
}