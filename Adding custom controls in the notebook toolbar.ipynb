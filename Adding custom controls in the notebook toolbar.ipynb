{
 "metadata": {
  "name": "",
  "signature": "sha256:c1f47a805534cd6a0a33930d50a69728d297c53c5ef7b918186ca8bb5b7cf146"
 },
 "nbformat": 3,
 "nbformat_minor": 0,
 "worksheets": [
  {
   "cells": [
    {
     "cell_type": "markdown",
     "metadata": {},
     "source": [
      "http://nbviewer.ipython.org/github/dboyliao/cookbook-code/blob/master/notebooks/chapter03_notebook/03_controls.ipynb"
     ]
    },
    {
     "cell_type": "code",
     "collapsed": false,
     "input": [
      "%%javascript\n",
      "// This function allows us to add buttons \n",
      "// to the notebook toolbar.\n",
      "IPython.toolbar.add_buttons_group([\n",
      "{\n",
      "    // The button's label.\n",
      "    'label': 'renumber all code cells',\n",
      "    \n",
      "    // The button's icon.\n",
      "    // See a list of Font-Awesome icons here:\n",
      "    // http://fortawesome.github.io/Font-Awesome/icons/\n",
      "    'icon': 'icon-list-ol',\n",
      "    \n",
      "    // The callback function.\n",
      "    'callback': function () {\n",
      "        \n",
      "        // We retrieve the lists of all cells.\n",
      "        var cells = IPython.notebook.get_cells();\n",
      "        \n",
      "        // We only keep the code cells.\n",
      "        cells = cells.filter(function(c)\n",
      "            {\n",
      "                return c instanceof IPython.CodeCell; \n",
      "            })\n",
      "        \n",
      "        // We set the input prompt of all code cells.\n",
      "        for (var i = 0; i < cells.length; i++) {\n",
      "            cells[i].set_input_prompt(i + 1);\n",
      "        }\n",
      "    }\n",
      "}]);"
     ],
     "language": "python",
     "metadata": {},
     "outputs": [
      {
       "javascript": [
        "// This function allows us to add buttons \n",
        "// to the notebook toolbar.\n",
        "IPython.toolbar.add_buttons_group([\n",
        "{\n",
        "    // The button's label.\n",
        "    'label': 'renumber all code cells',\n",
        "    \n",
        "    // The button's icon.\n",
        "    // See a list of Font-Awesome icons here:\n",
        "    // http://fortawesome.github.io/Font-Awesome/icons/\n",
        "    'icon': 'icon-list-ol',\n",
        "    \n",
        "    // The callback function.\n",
        "    'callback': function () {\n",
        "        \n",
        "        // We retrieve the lists of all cells.\n",
        "        var cells = IPython.notebook.get_cells();\n",
        "        \n",
        "        // We only keep the code cells.\n",
        "        cells = cells.filter(function(c)\n",
        "            {\n",
        "                return c instanceof IPython.CodeCell; \n",
        "            })\n",
        "        \n",
        "        // We set the input prompt of all code cells.\n",
        "        for (var i = 0; i < cells.length; i++) {\n",
        "            cells[i].set_input_prompt(i + 1);\n",
        "        }\n",
        "    }\n",
        "}]);"
       ],
       "metadata": {},
       "output_type": "display_data",
       "text": [
        "<IPython.core.display.Javascript at 0x106202a50>"
       ]
      }
     ],
     "prompt_number": 1
    },
    {
     "cell_type": "code",
     "collapsed": false,
     "input": [
      "a = 10"
     ],
     "language": "python",
     "metadata": {},
     "outputs": [],
     "prompt_number": 2
    },
    {
     "cell_type": "code",
     "collapsed": false,
     "input": [
      "%%javascript\n",
      "// This function allows us to add buttons \n",
      "// to the notebook toolbar.\n",
      "IPython.toolbar.add_buttons_group([\n",
      "{\n",
      "    // The button's label.\n",
      "    'label': 'load model file (EM/EML)',\n",
      "    \n",
      "    // The button's icon.\n",
      "    // See a list of Font-Awesome icons here:\n",
      "    // http://fortawesome.github.io/Font-Awesome/icons/\n",
      "    'icon': 'icon-file',\n",
      "    \n",
      "    // The callback function.\n",
      "    'callback': function () {\n",
      "        \n",
      "        var current_cell = IPython.notebook.get_selected_cell();\n",
      "        \n",
      "        current_cell.set_text( \"loadModel(\\'./Tyson1991.eml\\')\" );\n",
      "    }\n",
      "}]);"
     ],
     "language": "python",
     "metadata": {},
     "outputs": [
      {
       "javascript": [
        "// This function allows us to add buttons \n",
        "// to the notebook toolbar.\n",
        "IPython.toolbar.add_buttons_group([\n",
        "{\n",
        "    // The button's label.\n",
        "    'label': 'load model file (EM/EML)',\n",
        "    \n",
        "    // The button's icon.\n",
        "    // See a list of Font-Awesome icons here:\n",
        "    // http://fortawesome.github.io/Font-Awesome/icons/\n",
        "    'icon': 'icon-file',\n",
        "    \n",
        "    // The callback function.\n",
        "    'callback': function () {\n",
        "        \n",
        "        var current_cell = IPython.notebook.get_selected_cell();\n",
        "        \n",
        "        current_cell.set_text( \"loadModel(\\'./Tyson1991.eml\\')\" );\n",
        "    }\n",
        "}]);"
       ],
       "metadata": {},
       "output_type": "display_data",
       "text": [
        "<IPython.core.display.Javascript at 0x106202b90>"
       ]
      }
     ],
     "prompt_number": 3
    },
    {
     "cell_type": "code",
     "collapsed": false,
     "input": [
      "loadModel('./Tyson1991.eml')"
     ],
     "language": "python",
     "metadata": {},
     "outputs": [
      {
       "ename": "NameError",
       "evalue": "name 'loadModel' is not defined",
       "output_type": "pyerr",
       "traceback": [
        "\u001b[0;31m---------------------------------------------------------------------------\u001b[0m\n\u001b[0;31mNameError\u001b[0m                                 Traceback (most recent call last)",
        "\u001b[0;32m<ipython-input-5-3b874f8c4531>\u001b[0m in \u001b[0;36m<module>\u001b[0;34m()\u001b[0m\n\u001b[0;32m----> 1\u001b[0;31m \u001b[0mloadModel\u001b[0m\u001b[0;34m(\u001b[0m\u001b[0;34m'./Tyson1991.eml'\u001b[0m\u001b[0;34m)\u001b[0m\u001b[0;34m\u001b[0m\u001b[0m\n\u001b[0m",
        "\u001b[0;31mNameError\u001b[0m: name 'loadModel' is not defined"
       ]
      }
     ],
     "prompt_number": 4
    },
    {
     "cell_type": "code",
     "collapsed": false,
     "input": [
      "import types\n",
      "from functools import partial\n",
      "import json\n",
      "\n",
      "class JSCode(object):\n",
      "    def __init__(self, code):\n",
      "        self.code = code\n",
      "        self.invokes = \"\"\n",
      "        \n",
      "        # Find all the function name(  lines in the Javasript code\n",
      "        for line in code.split(\"\\n\"):\n",
      "            line = line.strip().split()\n",
      "            if line and line[0] == 'function':\n",
      "                funcname = line[1].split(\"(\")[0]\n",
      "                \n",
      "                # For each create a bound method to add to the list of invocations\n",
      "                def invoke(self, *args):\n",
      "                    argstr = ','.join([json.dumps(arg) for arg in args])\n",
      "                    self.invokes += \"%s(%s);\\n\" % (funcname, argstr)                \n",
      "\n",
      "                setattr(self, funcname, types.MethodType(invoke, self))    \n",
      "                \n",
      "    def _repr_javascript_(self):\n",
      "        \"\"\"Return the code definitions and all invocations\"\"\"\n",
      "        return self.code + self.invokes\n",
      "        "
     ],
     "language": "python",
     "metadata": {},
     "outputs": [],
     "prompt_number": 5
    },
    {
     "cell_type": "code",
     "collapsed": false,
     "input": [
      "code = JSCode(\"\"\"\n",
      "IPython.toolbar.add_buttons_group([\n",
      "{\n",
      "    // The button's label.\n",
      "    'label': 'load model file (EM/EML)',\n",
      "    \n",
      "    // The button's icon.\n",
      "    // See a list of Font-Awesome icons here:\n",
      "    // http://fortawesome.github.io/Font-Awesome/icons/\n",
      "    'icon': 'icon-file',\n",
      "    \n",
      "    // The callback function.\n",
      "    'callback': function () {\n",
      "        \n",
      "        IPython.notebook.select_next();\n",
      "        \n",
      "        // We retrieve the lists of all cells.\n",
      "        var cells = IPython.notebook.get_cells();\n",
      "        \n",
      "        // We only keep the code cells.\n",
      "        cells = cells.filter(function(c)\n",
      "            {\n",
      "                return c instanceof IPython.CodeCell; \n",
      "            })\n",
      "        \n",
      "        // We set the input prompt of all code cells.\n",
      "        for (var i = 0; i < cells.length; i++) {\n",
      "            cells[i].set_input_prompt(i + 1);\n",
      "        }\n",
      "    }\n",
      "}]);\n",
      "\"\"\")"
     ],
     "language": "python",
     "metadata": {},
     "outputs": [],
     "prompt_number": 6
    },
    {
     "cell_type": "code",
     "collapsed": false,
     "input": [
      "code"
     ],
     "language": "python",
     "metadata": {},
     "outputs": [
      {
       "javascript": [
        "\n",
        "IPython.toolbar.add_buttons_group([\n",
        "{\n",
        "    // The button's label.\n",
        "    'label': 'load model file (EM/EML)',\n",
        "    \n",
        "    // The button's icon.\n",
        "    // See a list of Font-Awesome icons here:\n",
        "    // http://fortawesome.github.io/Font-Awesome/icons/\n",
        "    'icon': 'icon-file',\n",
        "    \n",
        "    // The callback function.\n",
        "    'callback': function () {\n",
        "        \n",
        "        IPython.notebook.select_next();\n",
        "        \n",
        "        // We retrieve the lists of all cells.\n",
        "        var cells = IPython.notebook.get_cells();\n",
        "        \n",
        "        // We only keep the code cells.\n",
        "        cells = cells.filter(function(c)\n",
        "            {\n",
        "                return c instanceof IPython.CodeCell; \n",
        "            })\n",
        "        \n",
        "        // We set the input prompt of all code cells.\n",
        "        for (var i = 0; i < cells.length; i++) {\n",
        "            cells[i].set_input_prompt(i + 1);\n",
        "        }\n",
        "    }\n",
        "}]);\n"
       ],
       "metadata": {},
       "output_type": "pyout",
       "prompt_number": 10,
       "text": [
        "<__main__.JSCode at 0x10525df10>"
       ]
      }
     ],
     "prompt_number": 7
    },
    {
     "cell_type": "code",
     "collapsed": false,
     "input": [
      "loadModel('./Tyson1991.eml')"
     ],
     "language": "python",
     "metadata": {},
     "outputs": [
      {
       "ename": "NameError",
       "evalue": "name 'loadModel' is not defined",
       "output_type": "pyerr",
       "traceback": [
        "\u001b[0;31m---------------------------------------------------------------------------\u001b[0m\n\u001b[0;31mNameError\u001b[0m                                 Traceback (most recent call last)",
        "\u001b[0;32m<ipython-input-9-3b874f8c4531>\u001b[0m in \u001b[0;36m<module>\u001b[0;34m()\u001b[0m\n\u001b[0;32m----> 1\u001b[0;31m \u001b[0mloadModel\u001b[0m\u001b[0;34m(\u001b[0m\u001b[0;34m'./Tyson1991.eml'\u001b[0m\u001b[0;34m)\u001b[0m\u001b[0;34m\u001b[0m\u001b[0m\n\u001b[0m",
        "\u001b[0;31mNameError\u001b[0m: name 'loadModel' is not defined"
       ]
      }
     ],
     "prompt_number": 8
    },
    {
     "cell_type": "code",
     "collapsed": false,
     "input": [
      "%%javascript\n",
      "\n"
     ],
     "language": "python",
     "metadata": {},
     "outputs": [],
     "prompt_number": 9
    },
    {
     "cell_type": "code",
     "collapsed": false,
     "input": [],
     "language": "python",
     "metadata": {},
     "outputs": [
      {
       "ename": "NameError",
       "evalue": "name 'os' is not defined",
       "output_type": "pyerr",
       "traceback": [
        "\u001b[0;31m---------------------------------------------------------------------------\u001b[0m\n\u001b[0;31mNameError\u001b[0m                                 Traceback (most recent call last)",
        "\u001b[0;32m<ipython-input-11-334e82f0f83a>\u001b[0m in \u001b[0;36m<module>\u001b[0;34m()\u001b[0m\n\u001b[0;32m----> 1\u001b[0;31m \u001b[0mos\u001b[0m\u001b[0;34m.\u001b[0m\u001b[0mchroot\u001b[0m\u001b[0;34m(\u001b[0m\u001b[0;34m)\u001b[0m\u001b[0;34m\u001b[0m\u001b[0m\n\u001b[0m\u001b[1;32m      2\u001b[0m \u001b[0mos\u001b[0m\u001b[0;34m.\u001b[0m\u001b[0mgetcwd\u001b[0m\u001b[0;34m(\u001b[0m\u001b[0;34m)\u001b[0m\u001b[0;34m\u001b[0m\u001b[0m\n",
        "\u001b[0;31mNameError\u001b[0m: name 'os' is not defined"
       ]
      }
     ],
     "prompt_number": 11
    },
    {
     "cell_type": "code",
     "collapsed": false,
     "input": [],
     "language": "python",
     "metadata": {},
     "outputs": [],
     "prompt_number": 11
    },
    {
     "cell_type": "code",
     "collapsed": false,
     "input": [],
     "language": "python",
     "metadata": {},
     "outputs": [],
     "prompt_number": 12
    },
    {
     "cell_type": "code",
     "collapsed": false,
     "input": [],
     "language": "python",
     "metadata": {},
     "outputs": [],
     "prompt_number": 13
    }
   ],
   "metadata": {}
  }
 ]
}