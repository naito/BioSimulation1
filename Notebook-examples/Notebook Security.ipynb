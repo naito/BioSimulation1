{
 "cells": [],
 "metadata": {
  "signature": "sha256:0abf067a20ebda26a671db997ac954770350d292dff7b7d6a4ace8808f70aca1"
 },
 "nbformat": 4,
 "nbformat_minor": 0
}