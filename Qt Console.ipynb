{
 "metadata": {
  "name": "",
  "signature": "sha256:c8511e6b7a2df9082707fbebb2188ac9aabd8e37b004d19c24be4ef87a5fcbb7"
 },
 "nbformat": 3,
 "nbformat_minor": 0,
 "worksheets": [
  {
   "cells": [
    {
     "cell_type": "markdown",
     "metadata": {},
     "source": [
      "http://nbviewer.ipython.org/github/ipython/ipython/blob/master/examples/Notebook/Connecting%20with%20the%20Qt%20Console.ipynb"
     ]
    },
    {
     "cell_type": "code",
     "collapsed": false,
     "input": [
      "%connect_info"
     ],
     "language": "python",
     "metadata": {},
     "outputs": [
      {
       "output_type": "stream",
       "stream": "stdout",
       "text": [
        "{\n",
        "  \"stdin_port\": 57880, \n",
        "  \"ip\": \"127.0.0.1\", \n",
        "  \"control_port\": 57881, \n",
        "  \"hb_port\": 57882, \n",
        "  \"signature_scheme\": \"hmac-sha256\", \n",
        "  \"key\": \"99f1d737-56e2-4471-804d-7783206c2af3\", \n",
        "  \"shell_port\": 57878, \n",
        "  \"transport\": \"tcp\", \n",
        "  \"iopub_port\": 57879\n",
        "}\n",
        "\n",
        "Paste the above JSON into a file, and connect with:\n",
        "    $> ipython <app> --existing <file>\n",
        "or, if you are local, you can connect with just:\n",
        "    $> ipython <app> --existing kernel-694772e8-bbe4-4ddb-bbbc-a19fbc7df223.json \n",
        "or even just:\n",
        "    $> ipython <app> --existing \n",
        "if this is the most recent IPython session you have started.\n"
       ]
      }
     ],
     "prompt_number": 1
    },
    {
     "cell_type": "code",
     "collapsed": false,
     "input": [
      "a = 10"
     ],
     "language": "python",
     "metadata": {},
     "outputs": [],
     "prompt_number": 2
    },
    {
     "cell_type": "code",
     "collapsed": false,
     "input": [
      "%qtconsole"
     ],
     "language": "python",
     "metadata": {},
     "outputs": [],
     "prompt_number": 3
    },
    {
     "cell_type": "code",
     "collapsed": false,
     "input": [],
     "language": "python",
     "metadata": {},
     "outputs": []
    }
   ],
   "metadata": {}
  }
 ]
}