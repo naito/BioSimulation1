{
 "metadata": {
  "name": "",
  "signature": "sha256:a02ea52d4f92048f2f4878f9a9eb156749cf1ea408ef4305e9285ea5e6cb8001"
 },
 "nbformat": 3,
 "nbformat_minor": 0,
 "worksheets": [
  {
   "cells": [
    {
     "cell_type": "heading",
     "level": 1,
     "metadata": {},
     "source": [
      "\u6700\u7d42\u8a66\u9a13\uff08\uff12\uff09"
     ]
    },
    {
     "cell_type": "code",
     "collapsed": false,
     "input": [
      "import imp\n",
      "try:\n",
      "    imp.find_module(\"ecell\")\n",
      "except ImportError:\n",
      "    import sys\n",
      "    sys.path.append(\"/opt/local/lib/python2.7/site-packages\")\n",
      "    sys.path.append(\"/opt/local/Library/Frameworks/Python.framework/Versions/2.7/lib/python2.7/site-packages\")"
     ],
     "language": "python",
     "metadata": {},
     "outputs": [],
     "prompt_number": 1
    },
    {
     "cell_type": "code",
     "collapsed": false,
     "input": [
      "import numpy as np\n",
      "\n",
      "%matplotlib inline\n",
      "import matplotlib.pyplot as plt\n",
      "\n",
      "%install_ext https://raw.githubusercontent.com/naito/ecell3-ipython/master/extensions/ecell3.py\n",
      "%load_ext ecell3"
     ],
     "language": "python",
     "metadata": {},
     "outputs": [
      {
       "output_type": "stream",
       "stream": "stdout",
       "text": [
        "Installed ecell3.py. To use it, type:\n",
        "  %load_ext ecell3\n"
       ]
      }
     ],
     "prompt_number": 2
    },
    {
     "cell_type": "heading",
     "level": 3,
     "metadata": {},
     "source": [
      "\u30e2\u30c7\u30eb\u30d5\u30a1\u30a4\u30eb\u306e\u8aad\u307f\u8fbc\u307f"
     ]
    },
    {
     "cell_type": "code",
     "collapsed": false,
     "input": [
      "loadModel(\"Lec-14.eml\")"
     ],
     "language": "python",
     "metadata": {},
     "outputs": [],
     "prompt_number": 3
    },
    {
     "cell_type": "heading",
     "level": 2,
     "metadata": {},
     "source": [
      "\u554f\u984c\uff12"
     ]
    },
    {
     "cell_type": "markdown",
     "metadata": {},
     "source": [
      "* \u6642\u523b _t_ = 0 \u3067\u306e _S_ \u306e\u5024\uff08`Value`\uff09\u3092\u30011.1 \u306b\u8a2d\u5b9a\u3057\u3001\u6642\u523b _t_ = 50 \u307e\u3067\u30b7\u30df\u30e5\u30ec\u30fc\u30b7\u30e7\u30f3\u3092\u5b9f\u884c\u3057\u3001_X_ \u306e\u5024\uff08`Value`\uff09\u3092\u30d7\u30ed\u30c3\u30c8\u3057\u306a\u3055\u3044\u3002"
     ]
    },
    {
     "cell_type": "code",
     "collapsed": false,
     "input": [
      "# \u89e3\u7b54\u6b04"
     ],
     "language": "python",
     "metadata": {},
     "outputs": [],
     "prompt_number": 4
    },
    {
     "cell_type": "markdown",
     "metadata": {},
     "source": [
      "* \u554f\u984c\uff11\u306e _X_ \u306e\u5024\u306e\u9055\u3044\u3092\u8aac\u660e\u3057\u306a\u3055\u3044\u3002\uff11\u884c\u306e\u7c21\u5358\u306a\u8aac\u660e\u3067\u304b\u307e\u3044\u307e\u305b\u3093\u3002"
     ]
    },
    {
     "cell_type": "markdown",
     "metadata": {},
     "source": [
      "\u89e3\u7b54\u6b04"
     ]
    },
    {
     "cell_type": "heading",
     "level": 4,
     "metadata": {},
     "source": [
      "FinalExam-3 \u306b\u9032\u3093\u3067\u304f\u3060\u3055\u3044\u3002"
     ]
    }
   ],
   "metadata": {}
  }
 ]
}