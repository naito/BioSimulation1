{
 "metadata": {
  "name": "",
  "signature": "sha256:c8c96700a0c4158925c3fb898ebc4bf84fafaacdaf59cca052d01bd5b00faa40"
 },
 "nbformat": 3,
 "nbformat_minor": 0,
 "worksheets": [
  {
   "cells": [
    {
     "cell_type": "heading",
     "level": 1,
     "metadata": {},
     "source": [
      "\u7b2c10\u56de\u3000\u30b7\u30df\u30e5\u30ec\u30fc\u30b7\u30e7\u30f3\u3072\u3068\u3081\u3050\u308a\uff08\uff12\uff09"
     ]
    },
    {
     "cell_type": "heading",
     "level": 2,
     "metadata": {},
     "source": [
      "Python\u30d7\u30ed\u30b0\u30e9\u30df\u30f3\u30b0\u306e\u57fa\u790e\uff08\u6761\u4ef6\u5206\u5c90\uff09"
     ]
    },
    {
     "cell_type": "heading",
     "level": 3,
     "metadata": {},
     "source": [
      "\u6761\u4ef6\u5206\u5c90 if \u6587"
     ]
    },
    {
     "cell_type": "markdown",
     "metadata": {},
     "source": [
      "**\u66f8\u5f0f**\n",
      "```\n",
      "if \u6761\u4ef6\u5f0f\uff11:\n",
      "    \u6761\u4ef6\u5f0f\uff11\u304c\u771f\u3060\u3063\u305f\u969b\u306e\u51e6\u7406\n",
      "    \uff1a\n",
      "    \uff1a\n",
      "elif \u6761\u4ef6\u5f0f\uff12:\n",
      "    \u6761\u4ef6\u5f0f\uff12\u304c\u771f\u3060\u3063\u305f\u969b\u306e\u51e6\u7406\n",
      "    \uff1a\n",
      "    \uff1a\n",
      "else:\n",
      "    \u3059\u3079\u3066\u306e\u6761\u4ef6\u5f0f\u304c\u507d\u3060\u3063\u305f\u969b\u306e\u51e6\u7406\n",
      "    \uff1a\n",
      "    \uff1a\n",
      "```"
     ]
    },
    {
     "cell_type": "heading",
     "level": 4,
     "metadata": {},
     "source": [
      "\u6761\u4ef6\u5f0f"
     ]
    },
    {
     "cell_type": "markdown",
     "metadata": {},
     "source": [
      "* \u771f\uff08`True`\uff09\u304b\u507d\uff08`False`\uff09\u304b\u3092\u8fd4\u3059\u5f0f\uff08\uff1d\u771f\u7406\u5024\u3092\u8fd4\u3059\u5f0f\uff09\n",
      "* `bool` \u578b"
     ]
    },
    {
     "cell_type": "heading",
     "level": 5,
     "metadata": {},
     "source": [
      "\u771f\u507d\u5024 bool\u578b"
     ]
    },
    {
     "cell_type": "markdown",
     "metadata": {},
     "source": [
      "* `bool` \u578b\uff1a `True`, `False`\n",
      "* 0\uff08\u507d\uff09, \u305d\u308c\u4ee5\u5916\u306e\u6570\uff08\u771f\uff09"
     ]
    },
    {
     "cell_type": "code",
     "collapsed": false,
     "input": [
      "True"
     ],
     "language": "python",
     "metadata": {},
     "outputs": [
      {
       "metadata": {},
       "output_type": "pyout",
       "prompt_number": 1,
       "text": [
        "True"
       ]
      }
     ],
     "prompt_number": 1
    },
    {
     "cell_type": "code",
     "collapsed": false,
     "input": [
      "bool( 0 )"
     ],
     "language": "python",
     "metadata": {},
     "outputs": [
      {
       "metadata": {},
       "output_type": "pyout",
       "prompt_number": 2,
       "text": [
        "False"
       ]
      }
     ],
     "prompt_number": 2
    },
    {
     "cell_type": "code",
     "collapsed": false,
     "input": [
      "bool( -1.23 )"
     ],
     "language": "python",
     "metadata": {},
     "outputs": [
      {
       "metadata": {},
       "output_type": "pyout",
       "prompt_number": 3,
       "text": [
        "True"
       ]
      }
     ],
     "prompt_number": 3
    },
    {
     "cell_type": "code",
     "collapsed": false,
     "input": [
      "bool( 0.0 )"
     ],
     "language": "python",
     "metadata": {},
     "outputs": [
      {
       "metadata": {},
       "output_type": "pyout",
       "prompt_number": 4,
       "text": [
        "False"
       ]
      }
     ],
     "prompt_number": 4
    },
    {
     "cell_type": "heading",
     "level": 5,
     "metadata": {},
     "source": [
      "\u6bd4\u8f03\u6f14\u7b97\u5b50"
     ]
    },
    {
     "cell_type": "markdown",
     "metadata": {},
     "source": [
      "`==`, `>`, `<`, `>=`, `<=`, `!=`"
     ]
    },
    {
     "cell_type": "code",
     "collapsed": false,
     "input": [
      "2 == 1 + 1"
     ],
     "language": "python",
     "metadata": {},
     "outputs": [
      {
       "metadata": {},
       "output_type": "pyout",
       "prompt_number": 5,
       "text": [
        "True"
       ]
      }
     ],
     "prompt_number": 5
    },
    {
     "cell_type": "code",
     "collapsed": false,
     "input": [
      "2 == 2.0"
     ],
     "language": "python",
     "metadata": {},
     "outputs": [
      {
       "metadata": {},
       "output_type": "pyout",
       "prompt_number": 6,
       "text": [
        "True"
       ]
      }
     ],
     "prompt_number": 6
    },
    {
     "cell_type": "code",
     "collapsed": false,
     "input": [
      "2 > 2"
     ],
     "language": "python",
     "metadata": {},
     "outputs": [
      {
       "metadata": {},
       "output_type": "pyout",
       "prompt_number": 7,
       "text": [
        "False"
       ]
      }
     ],
     "prompt_number": 7
    },
    {
     "cell_type": "code",
     "collapsed": false,
     "input": [
      "2 >= 2"
     ],
     "language": "python",
     "metadata": {},
     "outputs": [
      {
       "metadata": {},
       "output_type": "pyout",
       "prompt_number": 8,
       "text": [
        "True"
       ]
      }
     ],
     "prompt_number": 8
    },
    {
     "cell_type": "code",
     "collapsed": false,
     "input": [
      "2 != 2"
     ],
     "language": "python",
     "metadata": {},
     "outputs": [
      {
       "metadata": {},
       "output_type": "pyout",
       "prompt_number": 9,
       "text": [
        "False"
       ]
      }
     ],
     "prompt_number": 9
    },
    {
     "cell_type": "heading",
     "level": 5,
     "metadata": {},
     "source": [
      "\u8ad6\u7406\u6f14\u7b97\u5b50"
     ]
    },
    {
     "cell_type": "markdown",
     "metadata": {},
     "source": [
      "* \u8ad6\u7406\u7a4d `and`\n",
      "* \u8ad6\u7406\u548c`or`\n",
      "* \u5426\u5b9a `not`"
     ]
    },
    {
     "cell_type": "code",
     "collapsed": false,
     "input": [
      "True and False"
     ],
     "language": "python",
     "metadata": {},
     "outputs": [
      {
       "metadata": {},
       "output_type": "pyout",
       "prompt_number": 10,
       "text": [
        "False"
       ]
      }
     ],
     "prompt_number": 10
    },
    {
     "cell_type": "code",
     "collapsed": false,
     "input": [
      "True and True"
     ],
     "language": "python",
     "metadata": {},
     "outputs": [
      {
       "metadata": {},
       "output_type": "pyout",
       "prompt_number": 11,
       "text": [
        "True"
       ]
      }
     ],
     "prompt_number": 11
    },
    {
     "cell_type": "code",
     "collapsed": false,
     "input": [
      "True or False"
     ],
     "language": "python",
     "metadata": {},
     "outputs": [
      {
       "metadata": {},
       "output_type": "pyout",
       "prompt_number": 12,
       "text": [
        "True"
       ]
      }
     ],
     "prompt_number": 12
    },
    {
     "cell_type": "code",
     "collapsed": false,
     "input": [
      "True or True"
     ],
     "language": "python",
     "metadata": {},
     "outputs": [
      {
       "metadata": {},
       "output_type": "pyout",
       "prompt_number": 13,
       "text": [
        "True"
       ]
      }
     ],
     "prompt_number": 13
    },
    {
     "cell_type": "code",
     "collapsed": false,
     "input": [
      "False or False"
     ],
     "language": "python",
     "metadata": {},
     "outputs": [
      {
       "metadata": {},
       "output_type": "pyout",
       "prompt_number": 14,
       "text": [
        "False"
       ]
      }
     ],
     "prompt_number": 14
    },
    {
     "cell_type": "code",
     "collapsed": false,
     "input": [
      "not False"
     ],
     "language": "python",
     "metadata": {},
     "outputs": [
      {
       "metadata": {},
       "output_type": "pyout",
       "prompt_number": 15,
       "text": [
        "True"
       ]
      }
     ],
     "prompt_number": 15
    },
    {
     "cell_type": "code",
     "collapsed": false,
     "input": [
      "True and ( not False )"
     ],
     "language": "python",
     "metadata": {},
     "outputs": [
      {
       "metadata": {},
       "output_type": "pyout",
       "prompt_number": 16,
       "text": [
        "True"
       ]
      }
     ],
     "prompt_number": 16
    },
    {
     "cell_type": "heading",
     "level": 4,
     "metadata": {},
     "source": [
      "if \u6587"
     ]
    },
    {
     "cell_type": "code",
     "collapsed": false,
     "input": [
      "signal = \"green\"\n",
      "\n",
      "if signal == \"green\":\n",
      "    print \"signal is green\"\n",
      "elif signal == \"yellow\":\n",
      "    print \"signal is yellow\"\n",
      "else:\n",
      "    print \"signal is red\""
     ],
     "language": "python",
     "metadata": {},
     "outputs": [
      {
       "output_type": "stream",
       "stream": "stdout",
       "text": [
        "signal is green\n"
       ]
      }
     ],
     "prompt_number": 17
    },
    {
     "cell_type": "heading",
     "level": 5,
     "metadata": {},
     "source": [
      "for\u6587\u3068\u306e\u7d44\u307f\u5408\u308f\u305b"
     ]
    },
    {
     "cell_type": "code",
     "collapsed": false,
     "input": [
      "signals = [ \"green\", \"yellow\", \"red\" ]\n",
      "\n",
      "for signal in signals:\n",
      "    if signal == \"green\":\n",
      "        print \"signal is green\"\n",
      "    elif signal == \"yellow\":\n",
      "        print \"signal is yellow\"\n",
      "    else:\n",
      "        print \"signal is red\""
     ],
     "language": "python",
     "metadata": {},
     "outputs": [
      {
       "output_type": "stream",
       "stream": "stdout",
       "text": [
        "signal is green\n",
        "signal is yellow\n",
        "signal is red\n"
       ]
      }
     ],
     "prompt_number": 18
    },
    {
     "cell_type": "heading",
     "level": 3,
     "metadata": {},
     "source": [
      "\u6f14\u7fd2\uff12\n"
     ]
    },
    {
     "cell_type": "markdown",
     "metadata": {},
     "source": [
      "\u4ee5\u4e0b\u306e `singles` \u306f\u30012014\u5e7410\u670813\u65e5\u306e\u30c6\u30cb\u30b9\u306eATP/WTA\u30ef\u30fc\u30eb\u30c9\u30c4\u30a2\u30fc\u30e9\u30f3\u30ad\u30f3\u30b0\u30fb\u30b7\u30f3\u30b0\u30eb\u30b9\u7537\u5b50\u30fb\u5973\u5b50\u306e\u30c8\u30c3\u30d716\u9078\u624b\u306e\u30ea\u30b9\u30c8\u3067\u3059\u3002  \n",
      "\u30ea\u30b9\u30c8\u306e\u5404\u8981\u7d20\u306f\u8f9e\u66f8\u306b\u306a\u3063\u3066\u304a\u308a\u3001\u9078\u624b\u306e \u59d3\uff08`family`\uff09\u3001\u540d\uff08`given`\uff09\u3001\u56fd\u7c4d\uff08`nationality`\uff09\u3001\u30dd\u30a4\u30f3\u30c8\uff08`points`\uff09\u3001\u76f4\u8fd1\uff11\u5e74\u9593\u306e\u51fa\u5834\u30c8\u30fc\u30ca\u30e1\u30f3\u30c8\u6570\uff08`tournaments`\uff09\u3001\u6027\u5225\uff08`sex`\uff09 \u3092\u30ad\u30fc\u3068\u3057\u3066\u542b\u307f\u307e\u3059\u3002"
     ]
    },
    {
     "cell_type": "code",
     "collapsed": false,
     "input": [
      "singles = [\n",
      "{ \"family\" : \"Bautista Agut\",\n",
      "\"given\" : \"Roberto\",\n",
      "\"nationality\": \"ESP\",\n",
      "\"points\" : 1935,\n",
      "\"tournaments\" : 23,\n",
      "\"sex\" : \"male\" },\n",
      "\n",
      "{ \"family\" : \"Berdych\",\n",
      "\"given\" : \"Tomas\",\n",
      "\"nationality\": \"CZE\",\n",
      "\"points\" : 4325,\n",
      "\"tournaments\" : 23,\n",
      "\"sex\" : \"male\" },\n",
      "\n",
      "{ \"family\" : \"Bouchard\",\n",
      "\"given\" : \"Eugenie\",\n",
      "\"nationality\": \"CAN\",\n",
      "\"points\" : 4523,\n",
      "\"tournaments\" : 23,\n",
      "\"sex\" : \"female\" },\n",
      "\n",
      "{ \"family\" : \"Cibulkova\",\n",
      "\"given\" : \"Dominika\",\n",
      "\"nationality\": \"SVK\",\n",
      "\"points\" : 2908,\n",
      "\"tournaments\" : 23,\n",
      "\"sex\" : \"female\" },\n",
      "\n",
      "{ \"family\" : \"Cilic\",\n",
      "\"given\" : \"Marin\",\n",
      "\"nationality\": \"CRO\",\n",
      "\"points\" : 3945,\n",
      "\"tournaments\" : 24,\n",
      "\"sex\" : \"male\" },\n",
      "\n",
      "{ \"family\" : \"Dimitrov\",\n",
      "\"given\" : \"Grigor\",\n",
      "\"nationality\": \"BUL\",\n",
      "\"points\" : 3745,\n",
      "\"tournaments\" : 21,\n",
      "\"sex\" : \"male\" },\n",
      "\n",
      "{ \"family\" : \"Djokovic\",\n",
      "\"given\" : \"Novak\",\n",
      "\"nationality\": \"SRB\",\n",
      "\"points\" : 11510,\n",
      "\"tournaments\" : 18,\n",
      "\"sex\" : \"male\" },\n",
      "\n",
      "{ \"family\" : \"Errani\",\n",
      "\"given\" : \"Sara\",\n",
      "\"nationality\": \"ITA\",\n",
      "\"points\" : 3085,\n",
      "\"tournaments\" : 24,\n",
      "\"sex\" : \"female\" },\n",
      "\n",
      "{ \"family\" : \"Federer\",\n",
      "\"given\" : \"Roger\",\n",
      "\"nationality\": \"SUI\",\n",
      "\"points\" : 9080,\n",
      "\"tournaments\" : 19,\n",
      "\"sex\" : \"male\" },\n",
      "\n",
      "{ \"family\" : \"Ferrer\",\n",
      "\"given\" : \"David\",\n",
      "\"nationality\": \"ESP\",\n",
      "\"points\" : 4585,\n",
      "\"tournaments\" : 26,\n",
      "\"sex\" : \"male\" },\n",
      "\n",
      "{ \"family\" : \"Gulbis\",\n",
      "\"given\" : \"Ernests\",\n",
      "\"nationality\": \"LAT\",\n",
      "\"points\" : 2465,\n",
      "\"tournaments\" : 24,\n",
      "\"sex\" : \"male\" },\n",
      "\n",
      "{ \"family\" : \"Halep\",\n",
      "\"given\" : \"Simona\",\n",
      "\"nationality\": \"ROU\",\n",
      "\"points\" : 6246,\n",
      "\"tournaments\" : 21,\n",
      "\"sex\" : \"female\" },\n",
      "\n",
      "{ \"family\" : \"Isner\",\n",
      "\"given\" : \"John\",\n",
      "\"nationality\": \"USA\",\n",
      "\"points\" : 1970,\n",
      "\"tournaments\" : 24,\n",
      "\"sex\" : \"male\" },\n",
      "\n",
      "{ \"family\" : \"Ivanovic\",\n",
      "\"given\" : \"Ana\",\n",
      "\"nationality\": \"SRB\",\n",
      "\"points\" : 4435,\n",
      "\"tournaments\" : 23,\n",
      "\"sex\" : \"female\" },\n",
      "\n",
      "{ \"family\" : \"Jankovic\",\n",
      "\"given\" : \"Jelena\",\n",
      "\"nationality\": \"SRB\",\n",
      "\"points\" : 2945,\n",
      "\"tournaments\" : 23,\n",
      "\"sex\" : \"female\" },\n",
      "\n",
      "{ \"family\" : \"Kerber\",\n",
      "\"given\" : \"Angelique\",\n",
      "\"nationality\": \"DEU\",\n",
      "\"points\" : 3745,\n",
      "\"tournaments\" : 23,\n",
      "\"sex\" : \"female\" },\n",
      "\n",
      "{ \"family\" : \"Kvitova\",\n",
      "\"given\" : \"Petra\",\n",
      "\"nationality\": \"CZE\",\n",
      "\"points\" : 6126,\n",
      "\"tournaments\" : 19,\n",
      "\"sex\" : \"female\" },\n",
      "\n",
      "{ \"family\" : \"Li\",\n",
      "\"given\" : \"Na\",\n",
      "\"nationality\": \"CHN\",\n",
      "\"points\" : 5020,\n",
      "\"tournaments\" : 15,\n",
      "\"sex\" : \"female\" },\n",
      "\n",
      "{ \"family\" : \"Lopez\",\n",
      "\"given\" : \"Feliciano\",\n",
      "\"nationality\": \"ESP\",\n",
      "\"points\" : 2060,\n",
      "\"tournaments\" : 26,\n",
      "\"sex\" : \"male\" },\n",
      "\n",
      "{ \"family\" : \"Makarova\",\n",
      "\"given\" : \"Ekaterina\",\n",
      "\"nationality\": \"RSA\",\n",
      "\"points\" : 2970,\n",
      "\"tournaments\" : 19,\n",
      "\"sex\" : \"female\" },\n",
      "\n",
      "{ \"family\" : \"Murray\",\n",
      "\"given\" : \"Andy\",\n",
      "\"nationality\": \"GBR\",\n",
      "\"points\" : 3635,\n",
      "\"tournaments\" : 20,\n",
      "\"sex\" : \"male\" },\n",
      "\n",
      "{ \"family\" : \"Nadal\",\n",
      "\"given\" : \"Rafael\",\n",
      "\"nationality\": \"ESP\",\n",
      "\"points\" : 8105,\n",
      "\"tournaments\" : 19,\n",
      "\"sex\" : \"male\" },\n",
      "\n",
      "{ \"family\" : \"Nishikori\",\n",
      "\"given\" : \"Kei\",\n",
      "\"nationality\": \"JPN\",\n",
      "\"points\" : 4355,\n",
      "\"tournaments\" : 22,\n",
      "\"sex\" : \"male\" },\n",
      "\n",
      "{ \"family\" : \"Pennetta\",\n",
      "\"given\" : \"Flavia\",\n",
      "\"nationality\": \"ITA\",\n",
      "\"points\" : 2642,\n",
      "\"tournaments\" : 18,\n",
      "\"sex\" : \"female\" },\n",
      "\n",
      "{ \"family\" : \"Petkovic\",\n",
      "\"given\" : \"Andrea\",\n",
      "\"nationality\": \"DEU\",\n",
      "\"points\" : 2495,\n",
      "\"tournaments\" : 24,\n",
      "\"sex\" : \"female\" },\n",
      "\n",
      "{ \"family\" : \"Radwanska\",\n",
      "\"given\" : \"Agnieszka\",\n",
      "\"nationality\": \"POL\",\n",
      "\"points\" : 4650,\n",
      "\"tournaments\" : 21,\n",
      "\"sex\" : \"female\" },\n",
      "\n",
      "{ \"family\" : \"Raonic\",\n",
      "\"given\" : \"Milos\",\n",
      "\"nationality\": \"CAN\",\n",
      "\"points\" : 3885,\n",
      "\"tournaments\" : 19,\n",
      "\"sex\" : \"male\" },\n",
      "\n",
      "{ \"family\" : \"Sharapova\",\n",
      "\"given\" : \"Maria\",\n",
      "\"nationality\": \"RSA\",\n",
      "\"points\" : 6680,\n",
      "\"tournaments\" : 16,\n",
      "\"sex\" : \"female\" },\n",
      "\n",
      "{ \"family\" : \"Tsonga\",\n",
      "\"given\" : \"Jo-Wilfried\",\n",
      "\"nationality\": \"FRA\",\n",
      "\"points\" : 2705,\n",
      "\"tournaments\" : 21,\n",
      "\"sex\" : \"male\" },\n",
      "\n",
      "{ \"family\" : \"Wawrinka\",\n",
      "\"given\" : \"Stan\",\n",
      "\"nationality\": \"SUI\",\n",
      "\"points\" : 5385,\n",
      "\"tournaments\" : 19,\n",
      "\"sex\" : \"male\" },\n",
      "\n",
      "{ \"family\" : \"Williams\",\n",
      "\"given\" : \"Serena\",\n",
      "\"nationality\": \"USA\",\n",
      "\"points\" : 8645,\n",
      "\"tournaments\" : 18,\n",
      "\"sex\" : \"female\" },\n",
      "\n",
      "{ \"family\" : \"Wozniacki\",\n",
      "\"given\" : \"Caroline\",\n",
      "\"nationality\": \"DNK\",\n",
      "\"points\" : 4215,\n",
      "\"tournaments\" : 20,\n",
      "\"sex\" : \"female\" }\n",
      "]"
     ],
     "language": "python",
     "metadata": {},
     "outputs": [],
     "prompt_number": 19
    },
    {
     "cell_type": "heading",
     "level": 4,
     "metadata": {},
     "source": [
      "\u6f14\u7fd2\uff12\uff08\uff11\uff09\n"
     ]
    },
    {
     "cell_type": "markdown",
     "metadata": {},
     "source": [
      "`singles` \u304b\u3089\u3001\u7537\u5b50\u9078\u624b\u3060\u3051\u3092\u542b\u3080\u30ea\u30b9\u30c8 `men`\u3001\u5973\u5b50\u9078\u624b\u3060\u3051\u3092\u542b\u3080\u30ea\u30b9\u30c8 `women` \u3092\u3064\u304f\u308a\u306a\u3055\u3044\u3002"
     ]
    },
    {
     "cell_type": "code",
     "collapsed": false,
     "input": [
      "# \u89e3\u7b54\u6b04"
     ],
     "language": "python",
     "metadata": {},
     "outputs": [],
     "prompt_number": 20
    },
    {
     "cell_type": "heading",
     "level": 4,
     "metadata": {},
     "source": [
      "\u6f14\u7fd2\uff12\uff08\uff12\uff09\n"
     ]
    },
    {
     "cell_type": "markdown",
     "metadata": {},
     "source": [
      "\u7537\u5973\u306e\u30ea\u30b9\u30c8\u305d\u308c\u305e\u308c\u304b\u3089\u3001\u7372\u5f97\u30dd\u30a4\u30f3\u30c8\u306b\u3088\u308b\u30e9\u30f3\u30ad\u30f3\u30b0\u3092\u51fa\u529b\u3059\u308b\u30d7\u30ed\u30b0\u30e9\u30e0\u3092\u66f8\u304d\u306a\u3055\u3044\u3002\n",
      "\n",
      "* \u96e3\u6613\u5ea6\u9ad8\u3081\u306a\u306e\u3067\u3001\u30d1\u30b9\u3057\u3066\u3082\u69cb\u3044\u307e\u305b\u3093\u3002\u89e3\u7b54\u6b04\u306e\u4e0b\u306b\u30d2\u30f3\u30c8\u3092\u4ed8\u3051\u307e\u3059\u3002"
     ]
    },
    {
     "cell_type": "code",
     "collapsed": false,
     "input": [
      "# \u89e3\u7b54\u6b04"
     ],
     "language": "python",
     "metadata": {},
     "outputs": [],
     "prompt_number": 21
    },
    {
     "cell_type": "heading",
     "level": 5,
     "metadata": {},
     "source": [
      "\u30d2\u30f3\u30c8\uff1a\u30ea\u30b9\u30c8\u3092\u4e26\u3079\u66ff\u3048\u308b\u95a2\u6570 `sorted()`"
     ]
    },
    {
     "cell_type": "code",
     "collapsed": false,
     "input": [
      "a = [5, 2, 3, 1, 4]\n",
      "\n",
      "sorted( a )"
     ],
     "language": "python",
     "metadata": {},
     "outputs": [
      {
       "metadata": {},
       "output_type": "pyout",
       "prompt_number": 22,
       "text": [
        "[1, 2, 3, 4, 5]"
       ]
      }
     ],
     "prompt_number": 22
    },
    {
     "cell_type": "markdown",
     "metadata": {},
     "source": [
      "\u5f15\u6570 **`key`** \u306b **Key \u95a2\u6570** \u3092\u6e21\u3057\u3066\u3001\u30ea\u30b9\u30c8\u306e\u8981\u7d20\u306e\u6bd4\u8f03\u5bfe\u8c61\u3092\u6307\u5b9a\u3067\u304d\u307e\u3059\u3002  \n",
      "**`operator`** \u30e2\u30b8\u30e5\u30fc\u30eb\u306e **`itemgetter`** \u30e1\u30bd\u30c3\u30c9\u3092\u5229\u7528\u3059\u308b\u3068\u3001\u30ea\u30b9\u30c8\u3084\u8f9e\u66f8\u306e\u30a2\u30a4\u30c6\u30e0\u3092\u53d6\u308a\u3060\u305b\u307e\u3059\u3002\n"
     ]
    },
    {
     "cell_type": "code",
     "collapsed": false,
     "input": [
      "from operator import itemgetter\n",
      "\n",
      "# \u795e\u5948\u5ddd\u770c\u5185\u306e\u5e02\u306e\u540d\u524d\u3068\u9762\u7a4d\uff08\u5e73\u65b9\u30ad\u30ed\u30e1\u30fc\u30c8\u30eb\uff09\n",
      "kanagawa_area = [\n",
      "{ \"name\" : \"Yokohama\",\n",
      "  \"area\" : 437.38 },\n",
      "\n",
      "{ \"name\" : \"Kawasaki\",\n",
      "  \"area\" : 142.70 },\n",
      "\n",
      "{ \"name\" : \"Sagamihara\",\n",
      "  \"area\" : 328.84 },\n",
      "\n",
      "{ \"name\" : \"Yokosuka\",\n",
      "  \"area\" : 100.70 },\n",
      "\n",
      "{ \"name\" : \"Hiratsuka\",\n",
      "  \"area\" : 67.83 },\n",
      "\n",
      "{ \"name\" : \"Kamakura\",\n",
      "  \"area\" : 39.60 },\n",
      "\n",
      "{ \"name\" : \"Fujisawa\",\n",
      "  \"area\" : 69.51 },\n",
      "\n",
      "{ \"name\" : \"Odawara\",\n",
      "  \"area\" : 114.09 },\n",
      "\n",
      "{ \"name\" : \"Chigasaki\",\n",
      "  \"area\" : 35.71 },\n",
      "\n",
      "{ \"name\" : \"Zushi\",\n",
      "  \"area\" : 17.34 },\n",
      "\n",
      "{ \"name\" : \"Miura\",\n",
      "  \"area\" : 32.28 },\n",
      "\n",
      "{ \"name\" : \"Hadano\",\n",
      "  \"area\" : 103.61 },\n",
      "\n",
      "{ \"name\" : \"Atsugi\",\n",
      "  \"area\" : 93.83 },\n",
      "\n",
      "{ \"name\" : \"Yamato\",\n",
      "  \"area\" : 27.06 },\n",
      "\n",
      "{ \"name\" : \"Isehara\",\n",
      "  \"area\" : 55.52 },\n",
      "\n",
      "{ \"name\" : \"Ebina\",\n",
      "  \"area\" : 26.48 },\n",
      "\n",
      "{ \"name\" : \"Zama\",\n",
      "  \"area\" : 17.58 },\n",
      "\n",
      "{ \"name\" : \"Minamiashigara\",\n",
      "  \"area\" : 76.93 },\n",
      "\n",
      "{ \"name\" : \"Ayase\",\n",
      "  \"area\" : 22.28 }\n",
      "]\n",
      "\n",
      "order = 0\n",
      "for city in sorted( kanagawa_area, key = itemgetter('area'), reverse = True ):\n",
      "    order = order + 1\n",
      "    print '{:>2}  {:<16}  {:>6.2f}'.format( order, city['name'], city['area'] )"
     ],
     "language": "python",
     "metadata": {},
     "outputs": [
      {
       "output_type": "stream",
       "stream": "stdout",
       "text": [
        " 1  Yokohama          437.38\n",
        " 2  Sagamihara        328.84\n",
        " 3  Kawasaki          142.70\n",
        " 4  Odawara           114.09\n",
        " 5  Hadano            103.61\n",
        " 6  Yokosuka          100.70\n",
        " 7  Atsugi             93.83\n",
        " 8  Minamiashigara     76.93\n",
        " 9  Fujisawa           69.51\n",
        "10  Hiratsuka          67.83\n",
        "11  Isehara            55.52\n",
        "12  Kamakura           39.60\n",
        "13  Chigasaki          35.71\n",
        "14  Miura              32.28\n",
        "15  Yamato             27.06\n",
        "16  Ebina              26.48\n",
        "17  Ayase              22.28\n",
        "18  Zama               17.58\n",
        "19  Zushi              17.34\n"
       ]
      }
     ],
     "prompt_number": 23
    },
    {
     "cell_type": "markdown",
     "metadata": {},
     "source": [
      "**`sorted( kanagawa_area, key = itemgetter('area'), reverse = True )`** \u306b\u3064\u3044\u3066\uff1a\n",
      "\n",
      "* \u5f15\u6570 **`key`** \u306f\u3001\u4e26\u3073\u66ff\u3048\u306b\u4f7f\u3046\u5bfe\u8c61\u3092\u6307\u5b9a\u3057\u307e\u3059\u3002`itemgetter('area')` \u306f\u3001`kanagawa_area` \u306e\u5404\u8981\u7d20\u306e `'area'` \u3068\u3044\u3046\u30ad\u30fc\u306e\u30a2\u30a4\u30c6\u30e0\u3092\u53d6\u308a\u3060\u3057\u3066\u4e26\u3079\u66ff\u3048\u308b\u6307\u793a\u3067\u3059\u3002\n",
      "* \u5f15\u6570 **`reverse`** \u306f\u3001\u4e26\u3073\u66ff\u3048\u306e\u9806\u3092\u9006\u8ee2\u3055\u305b\u308b\u304b\u306e\u6307\u793a\u3067\u3059\u3002 `reverse = True` \u306f\u3001\u9006\u8ee2\u3055\u305b\u308b\u6307\u793a\u3067\u3059\u3002\u30b9\u30b3\u30a2\uff08\u6570\u5024\uff09\u306e\u5927\u304d\u3044\u65b9\u3092\u524d\u65b9\u306b\u4e26\u3079\u308b\u306e\u306f\u3001\u6570\u5b57\u306e\u4e26\u3079\u65b9\u3068\u3057\u3066\u306f\u9006\u9806\u306b\u306a\u308a\u307e\u3059\u3002\n"
     ]
    },
    {
     "cell_type": "markdown",
     "metadata": {},
     "source": [
      "**`format()`** \u30e1\u30bd\u30c3\u30c9\u306e\u66f8\u5f0f\u306e\u6307\u5b9a\u65b9\u6cd5\u306f\u4ee5\u4e0b\u306eURL\u306a\u3069\u304c\u53c2\u8003\u306b\u306a\u308a\u307e\u3059\u3002\n",
      "* [Python \u30de\u30cb\u30e5\u30a2\u30eb\uff1a\u66f8\u5f0f\u6307\u5b9a\u6587\u5b57\u5217\u306e\u6587\u6cd5](http://docs.python.jp/2/library/string.html#formatstrings)\n",
      "* [\u30b3\u30f3\u30d1\u30af\u30c8\u306b\u307e\u3068\u307e\u305f\u30d6\u30ed\u30b0](http://python.civic-apps.com/string-format-function/)"
     ]
    },
    {
     "cell_type": "code",
     "collapsed": false,
     "input": [],
     "language": "python",
     "metadata": {},
     "outputs": [],
     "prompt_number": 23
    }
   ],
   "metadata": {}
  }
 ]
}