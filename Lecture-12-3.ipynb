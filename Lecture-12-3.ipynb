{
 "metadata": {
  "name": "",
  "signature": "sha256:c871531e31a7caf8cb6e2a15f06837d047206014bd29ef2a2920c90bf34264d0"
 },
 "nbformat": 3,
 "nbformat_minor": 0,
 "worksheets": [
  {
   "cells": [
    {
     "cell_type": "heading",
     "level": 1,
     "metadata": {},
     "source": [
      "\u30e2\u30c7\u30eb\u3092\u8003\u5bdf\u3059\u308b\uff08\uff13\uff09\n"
     ]
    },
    {
     "cell_type": "markdown",
     "metadata": {},
     "source": [
      "\u3088\u308a\u5358\u7d14\u306a\u30e2\u30c7\u30eb\u3092\u5bfe\u8c61\u306b\u3001\u632f\u52d5\u306e\u4ed5\u7d44\u307f\u3092\u8003\u3048\u3066\u307f\u308b\u3002"
     ]
    },
    {
     "cell_type": "heading",
     "level": 3,
     "metadata": {},
     "source": [
      "\u6e96\u5099\u4f5c\u696d\n"
     ]
    },
    {
     "cell_type": "code",
     "collapsed": false,
     "input": [
      "import imp\n",
      "try:\n",
      "    imp.find_module(\"ecell\")\n",
      "except ImportError:\n",
      "    import sys\n",
      "    sys.path.append(\"/opt/local/lib/python2.7/site-packages\")\n",
      "    sys.path.append(\"/opt/local/Library/Frameworks/Python.framework/Versions/2.7/lib/python2.7/site-packages\")"
     ],
     "language": "python",
     "metadata": {},
     "outputs": [],
     "prompt_number": 1
    },
    {
     "cell_type": "code",
     "collapsed": false,
     "input": [
      "import numpy as np\n",
      "\n",
      "%matplotlib inline\n",
      "import matplotlib.pyplot as plt\n",
      "\n",
      "%install_ext https://raw.githubusercontent.com/naito/ecell3-ipython/master/extensions/ecell3.py\n",
      "%load_ext ecell3"
     ],
     "language": "python",
     "metadata": {},
     "outputs": [
      {
       "output_type": "stream",
       "stream": "stdout",
       "text": [
        "Installed ecell3.py. To use it, type:\n",
        "  %load_ext ecell3\n"
       ]
      }
     ],
     "prompt_number": 2
    },
    {
     "cell_type": "heading",
     "level": 2,
     "metadata": {},
     "source": [
      "FitzHugh-Nagumo \u30e2\u30c7\u30eb"
     ]
    },
    {
     "cell_type": "markdown",
     "metadata": {},
     "source": [
      "1960\u5e74\u4ee3\u306b\u767a\u8868\u3055\u308c\u305f\u53e4\u5178\u7684\u306a\u795e\u7d4c\u7d30\u80de\u306e\u30e2\u30c7\u30eb\u3002"
     ]
    },
    {
     "cell_type": "markdown",
     "metadata": {},
     "source": [
      "![Model](./Lec-12-FNmodel.png)\n"
     ]
    },
    {
     "cell_type": "markdown",
     "metadata": {},
     "source": [
      "* \u5909\u6570\u306f _u_, _v_ \u306e\uff12\u3064\u3060\u3051\u3002\n",
      "* **_u_** \u306f\u819c\u96fb\u4f4d\u3001**_v_** \u306f\u819c\u96fb\u4f4d\u306e\u4e0d\u6d3b\u6027\u5316\u306e\u7a0b\u5ea6\u3092\u8868\u3059\u3002_I_ \u306f\u7d30\u80de\u5916\u304b\u3089\u6d41\u5165\u3059\u308b\u5916\u90e8\u96fb\u6d41\u3002_a_, _b_, _c_ \u306f\u30e2\u30c7\u30eb\u30d1\u30e9\u30e1\u30fc\u30bf\u3002\n",
      "* _u_, _v_ \u304c\u76f8\u4e92\u306b\u523a\u6fc0\u30fb\u6291\u5236\u3059\u308b\u3053\u3068\u3067\u3001\u5468\u671f\u632f\u52d5\u304c\u8d77\u3053\u308b\u3002\n"
     ]
    },
    {
     "cell_type": "heading",
     "level": 2,
     "metadata": {},
     "source": [
      "\u30b7\u30df\u30e5\u30ec\u30fc\u30b7\u30e7\u30f3\u3092\u5b9f\u884c\u3057\u3001_u_, _v_ \u306e\u52d5\u304d\u3092\u30b0\u30e9\u30d5\u306b\u63cf\u304f\n"
     ]
    },
    {
     "cell_type": "code",
     "collapsed": false,
     "input": [
      "%less FitzHugh-Nagumo.em"
     ],
     "language": "python",
     "metadata": {},
     "outputs": [],
     "prompt_number": 3
    },
    {
     "cell_type": "code",
     "collapsed": false,
     "input": [
      "!ecell3-em2eml FitzHugh-Nagumo.em"
     ],
     "language": "python",
     "metadata": {},
     "outputs": [],
     "prompt_number": 4
    },
    {
     "cell_type": "code",
     "collapsed": false,
     "input": [
      "loadModel(\"FitzHugh-Nagumo.eml\")"
     ],
     "language": "python",
     "metadata": {},
     "outputs": [],
     "prompt_number": 5
    },
    {
     "cell_type": "code",
     "collapsed": false,
     "input": [
      "u = 'Variable:/:u:Value'\n",
      "v = 'Variable:/:v:Value'\n",
      "\n",
      "Targets = [ u, v ]\n",
      "\n",
      "Logger_dict = {}\n",
      "\n",
      "for FullPN in Targets:\n",
      "    Logger_dict[ FullPN ] = createLoggerStub( FullPN )\n",
      "    Logger_dict[ FullPN ].create()"
     ],
     "language": "python",
     "metadata": {},
     "outputs": [],
     "prompt_number": 6
    },
    {
     "cell_type": "code",
     "collapsed": false,
     "input": [
      "Data_dict = {}"
     ],
     "language": "python",
     "metadata": {},
     "outputs": [],
     "prompt_number": 7
    },
    {
     "cell_type": "code",
     "collapsed": false,
     "input": [
      "run(10)"
     ],
     "language": "python",
     "metadata": {},
     "outputs": [],
     "prompt_number": 8
    },
    {
     "cell_type": "code",
     "collapsed": false,
     "input": [
      "for FullPN, Logger in Logger_dict.items():\n",
      "    Data_dict[ FullPN ] = np.array( Logger.getData() )[ :, :2 ]\n",
      "\n",
      "plt.figure()\n",
      "for FullPN, d in Data_dict.items():\n",
      "    plt.plot( d[ :, 0 ], d[ :, 1 ], label = FullPN.split(':')[ 2 ] )\n",
      "\n",
      "plt.xlabel( 't' )\n",
      "plt.legend( loc = 'lower right' )"
     ],
     "language": "python",
     "metadata": {},
     "outputs": [
      {
       "metadata": {},
       "output_type": "pyout",
       "prompt_number": 9,
       "text": [
        "<matplotlib.legend.Legend at 0x10f5b1e50>"
       ]
      },
      {
       "metadata": {},
       "output_type": "display_data",
       "png": "[encoded data removed]",
       "text": [
        "<matplotlib.figure.Figure at 0x10b66bd90>"
       ]
      }
     ],
     "prompt_number": 9
    },
    {
     "cell_type": "heading",
     "level": 2,
     "metadata": {},
     "source": [
      "_u_, _v_ \u306e\u95a2\u4fc2\u3092\u53ef\u8996\u5316\u3059\u308b\u305f\u3081\u306b\u3001\u76f8\u7a7a\u9593\u30d7\u30ed\u30c3\u30c8\u3092\u63cf\u304f\n"
     ]
    },
    {
     "cell_type": "markdown",
     "metadata": {},
     "source": [
      "* \u76f8\u7a7a\u9593\u30d7\u30ed\u30c3\u30c8\u3068\u306f\u3001\u30b0\u30e9\u30d5\u306e\u305d\u308c\u305e\u308c\u306e\u8ef8\u306b\u5909\u6570\u3092\u5272\u308a\u5f53\u3066\u3001\u5909\u6570\u3068\u5909\u6570\u306e\u95a2\u4fc2\u3092\u76f4\u63a5\u30b0\u30e9\u30d5\u306b\u63cf\u3044\u305f\u3082\u306e\u3002\n",
      "* \u6a2a\u8ef8\u304c\u6642\u9593\u3067\u306a\u304f\u306a\u3063\u3066\u3044\u308b\u306e\u3067\u3001\u6642\u9593\u306e\u60c5\u5831\u304c\u5931\u308f\u308c\u308b\u3002\n"
     ]
    },
    {
     "cell_type": "code",
     "collapsed": false,
     "input": [
      "u_Data = Data_dict[ u ][ :, 1 ]\n",
      "v_Data = Data_dict[ v ][ :, 1 ]\n",
      "\n",
      "plt.figure()\n",
      "plt.plot( u_Data, v_Data )\n",
      "plt.xlabel( 'u' )\n",
      "plt.ylabel( 'v' )\n",
      "plt.xlim( u_Data.min() - ( ( u_Data.max() - u_Data.min() ) * 0.1 ), u_Data.max() + ( ( u_Data.max() - u_Data.min() ) * 0.1 ) )\n",
      "plt.ylim( v_Data.min() - ( ( v_Data.max() - v_Data.min() ) * 0.1 ), v_Data.max() + ( ( v_Data.max() - v_Data.min() ) * 0.1 ) )\n"
     ],
     "language": "python",
     "metadata": {},
     "outputs": [
      {
       "metadata": {},
       "output_type": "pyout",
       "prompt_number": 10,
       "text": [
        "(-0.42524707463057965, 1.5904068213071239)"
       ]
      },
      {
       "metadata": {},
       "output_type": "display_data",
       "png": "[encoded data removed]",
       "text": [
        "<matplotlib.figure.Figure at 0x10f5c0dd0>"
       ]
      }
     ],
     "prompt_number": 10
    },
    {
     "cell_type": "markdown",
     "metadata": {},
     "source": [
      "* \u5468\u671f\u7684\u306b\u632f\u52d5\u3057\u3066\u3044\u308b\u7cfb\u3092\u76f8\u7a7a\u9593\u30d7\u30ed\u30c3\u30c8\u3059\u308b\u3068\u3001\u3053\u306e\u3088\u3046\u306a\u8ecc\u9053\u304c\u73fe\u308c\u308b\u3002\n",
      "* \u3053\u306e\u30e2\u30c7\u30eb\u306e\u5834\u5408\u3001_u_, _v_ \u306f\u3001\u8ecc\u9053\u3092\u53cd\u6642\u8a08\u56de\u308a\u306b\u5468\u56de\u3057\u3066\u3044\u308b\u3002\n"
     ]
    },
    {
     "cell_type": "heading",
     "level": 2,
     "metadata": {},
     "source": [
      "\u632f\u52d5\u3092\u3044\u304f\u3064\u304b\u306e\u30d5\u30a7\u30a4\u30ba\uff08\u76f8\uff09\u306b\u5206\u3051\u3066\u3001\u52d5\u614b\u3092\u8003\u5bdf\u3059\u308b\n"
     ]
    },
    {
     "cell_type": "markdown",
     "metadata": {},
     "source": [
      "* \u307b\u307c\u76f4\u7dda\u72b6\u306e\u5404\u8fba\u3067\u306f\u3001\u4e00\u5b9a\u306e\u529b\u95a2\u4fc2\u3067\u7cfb\u304c\u5909\u5316\u3057\u3066\u3044\u308b\u3068\u63a8\u5b9a\u3055\u308c\u308b\u3002\n",
      "* \u30b3\u30fc\u30ca\u30fc\u3092\u56de\u308b\u3068\u3053\u308d\u3067\u3001_u_, _v_ \u306e\u95a2\u4fc2\u306b\u5909\u5316\u304c\u8d77\u3053\u308a\u3001\u5225\u306e\u529b\u95a2\u4fc2\u3078\u3068\u30b7\u30d5\u30c8\u3057\u3066\u3044\u308b\u3068\u601d\u308f\u308c\u308b\u3002\n",
      "* \u305d\u3053\u3067\u3001\uff11\u5468\u671f\u3092\u56db\u89d2\u5f62\u306e\u8fba\u306b\u3042\u305f\u308b\uff14\u3064\u306e\u533a\u9593\u306b\u5206\u3051\u3001\u5404\u533a\u9593\u3068\u305d\u306e\u79fb\u884c\u671f\u306b\u4f55\u304c\u8d77\u3053\u3063\u3066\u3044\u308b\u306e\u304b\u3092\u500b\u5225\u306b\u8003\u3048\u3066\u307f\u308b\u3002\n"
     ]
    },
    {
     "cell_type": "heading",
     "level": 3,
     "metadata": {},
     "source": [
      "\u5fae\u5206\u65b9\u7a0b\u5f0f\u3092\u300c\u8aad\u3080\u300d\n"
     ]
    },
    {
     "cell_type": "markdown",
     "metadata": {},
     "source": [
      "* \u3053\u306e\u30e2\u30c7\u30eb\u306f\u3001\u4ee5\u4e0b\u306e\uff12\u3064\u306e\u5fae\u5206\u65b9\u7a0b\u5f0f\u304b\u3089\u306a\u308b\u3002\n",
      "    * _du/dt_ \u306f\u3001_u_ \u306e\u5909\u5316\u901f\u5ea6\u306e\u610f\u5473\uff08_u_ \u306e\u6642\u9593\uff08_t_\uff09\u5fae\u5206\uff09\u3002\n",
      "\n",
      "![Analysis](./Lec-12-FN-eqn.png)\n",
      "\n",
      "* \u30e2\u30c7\u30eb\u4e2d\u3067\u3001\u6642\u9593\u3068\u3068\u3082\u306b\u5024\u304c\u5909\u5316\u3059\u308b\u3082\u306e\uff08\u5909\u6570\uff09\u306f\u3001_u_, _v_ \u306e\uff12\u3064\u3060\u3051\u3002\n"
     ]
    },
    {
     "cell_type": "heading",
     "level": 3,
     "metadata": {},
     "source": [
      "\u5fae\u5206\u65b9\u7a0b\u5f0f\u3092\u5206\u89e3\u3057\u3066\u3001\uff12\u3064\u306e\u5909\u6570\u306e\u95a2\u4fc2\u3092\u307e\u3068\u3081\u308b\n"
     ]
    },
    {
     "cell_type": "markdown",
     "metadata": {},
     "source": [
      "* \uff12\u3064\u306e\u5909\u6570\u304c\u3001\u304a\u4e92\u3044\u306b\u3069\u3046\u3044\u3063\u305f\u5f71\u97ff\u3092\u53ca\u307c\u3057\u3042\u3063\u3066\u3044\u308b\u304b\u3001\u5fae\u5206\u65b9\u7a0b\u5f0f\u3092\u5206\u89e3\u3057\u3066\u8868\u306b\u307e\u3068\u3081\u3066\u307f\u308b\u3002\n",
      "\n",
      "![Analysis](./Lec-12-FN-table.png)\n",
      "\n",
      "* _u_ \u304c _u_ \u81ea\u8eab\u306b\u4e0e\u3048\u308b\u5f71\u97ff\u4ee5\u5916\u306f\u5358\u7d14\u3002\n",
      "* _v_ \u304c\u4e0e\u3048\u308b\u5f71\u97ff\u306b\u3064\u3044\u3066\u306f\u3001 _c_ = 10.0, _b_ = 0.8 \u306a\u306e\u3067\u3001_v_ \u304c\u81ea\u5206\u81ea\u8eab\u3092\u6291\u5236\u3059\u308b\u5f71\u97ff\u3088\u308a\u3001_u_ \u3092\u6291\u5236\u3059\u308b\u5f71\u97ff\u306e\u65b9\u304c 10 \u500d\u4ee5\u4e0a\u5f37\u3044\u3053\u3068\u304c\u308f\u304b\u308b\u3002\n",
      "    * _v_ \u304c\u8ca0\u306e\u6642\u306b\u306f\u523a\u6fc0\u306b\u5909\u308f\u308b\u306e\u3067\u3001\u3053\u3053\u3067 **\u6291\u5236** \u3068\u8aad\u3093\u3067\u3044\u308b\u4f5c\u7528\u306f **\u5bfe\u8c61\u3092\u30bc\u30ed\u306b\u8fd1\u3065\u3051\u308b\u4f5c\u7528** \u3068\u8003\u3048\u308b\u3068\u3088\u3044\u3002\n"
     ]
    },
    {
     "cell_type": "heading",
     "level": 3,
     "metadata": {},
     "source": [
      "_u_ \u304c\u81ea\u5206\u81ea\u8eab\u306b\u4e0e\u3048\u308b\u52b9\u679c\u3092\u53ef\u8996\u5316\u3059\u308b\n"
     ]
    },
    {
     "cell_type": "markdown",
     "metadata": {},
     "source": [
      "* _u_ \u304c\u81ea\u5206\u81ea\u8eab\u306b\u4e0e\u3048\u308b\u52b9\u679c\u304c\u3084\u3084\u8907\u96d1\u306a\u306e\u3067\u3001\u30b0\u30e9\u30d5\u306b\u63cf\u3044\u3066\u8996\u899a\u7684\u306b\u628a\u63e1\u3057\u3066\u304a\u304f\u3002\n",
      "* _u_ \u304c _u_ \u81ea\u8eab\u306b\u4e0e\u3048\u308b\u52b9\u679c\uff08u - u^3/3\uff09\u3092\u30b0\u30e9\u30d5\u306b\u63cf\u3044\u3066\u307f\u308b\u3002\n",
      "    * _u_ \u304c _v_ \u306b\u4e0e\u3048\u308b\u52b9\u679c\u3082\u4e00\u7dd2\u306b\u63cf\u304d\u3001\u305d\u306e\u5927\u5c0f\u95a2\u4fc2\u3092\u6bd4\u8f03\u3059\u308b\u3002\n"
     ]
    },
    {
     "cell_type": "code",
     "collapsed": false,
     "input": [
      "x = np.arange( -2.0, 2.0, 0.1 )\n",
      "plt.figure()\n",
      "plt.plot( x, 10 * ( x - x**3/3 ), label = 'u -> u' )\n",
      "plt.plot( x, x, label = 'u -> v' )\n",
      "plt.legend( loc = 'lower right' )\n",
      "plt.xlabel( 'u' )\n",
      "plt.ylabel( 'effect of u (min^-1)' )"
     ],
     "language": "python",
     "metadata": {},
     "outputs": [
      {
       "metadata": {},
       "output_type": "pyout",
       "prompt_number": 11,
       "text": [
        "<matplotlib.text.Text at 0x10f6e6f90>"
       ]
      },
      {
       "metadata": {},
       "output_type": "display_data",
       "png": "[encoded data removed]",
       "text": [
        "<matplotlib.figure.Figure at 0x10f5c3210>"
       ]
      }
     ],
     "prompt_number": 11
    },
    {
     "cell_type": "markdown",
     "metadata": {},
     "source": [
      "* _u_ \u306f -\u221a3 \uff1c _u_ \uff1c 0 \u304a\u3088\u3073 \u221a3 \uff1c _u_ \u306e\u7bc4\u56f2\u3067\u8ca0\u306e\u5024\u3092\u3068\u308b\u3002\u3059\u306a\u308f\u3061\u3001_u_ \u81ea\u8eab\u3092\u6291\u5236\u3059\u308b\uff08\u30cd\u30ac\u30c6\u30a3\u30d6\u30d5\u30a3\u30fc\u30c9\u30d0\u30c3\u30af\uff09\u3002  \n",
      "\u305d\u308c\u4ee5\u5916\u306e\u9818\u57df\u3067\u306f\u30bc\u30ed\u307e\u305f\u306f\u6b63\u306e\u5024\u3092\u3068\u308a\u3001_u_ \u81ea\u8eab\u3092\u523a\u6fc0\u3059\u308b\uff08\u30dd\u30b8\u30c6\u30a3\u30d6\u30d5\u30a3\u30fc\u30c9\u30d0\u30c3\u30af\uff09\u3002\n",
      "* _u_ \u306f 0 \uff1c _u_ \u306e\u3068\u304d _v_ \u3092\u4fc3\u9032\u3057\u3001_u_ \uff1c 0 \u306e\u3068\u304d _v_ \u3092\u6291\u5236\u3059\u308b\u3002\n",
      "* _v_ \u306f 0 \uff1c _v_ \u306e\u3068\u304d _u_ \u3092\u6291\u5236\u3057\u3001_v_ \uff1c 0 \u306e\u3068\u304d _u_ \u3092\u4fc3\u9032\u3059\u308b\u3002\n",
      "* _v_ \u306f 0 \uff1c _v_ \u306e\u3068\u304d _v_ \u81ea\u8eab\u3092\u6291\u5236\u3057\u3001_v_ \uff1c 0 \u306e\u3068\u304d _v_ \u81ea\u8eab\u3092\u4fc3\u9032\u3059\u308b\u3002\n"
     ]
    },
    {
     "cell_type": "markdown",
     "metadata": {},
     "source": [
      "![Analysis](./Lec-12-FN-analysis.png)\n",
      "\n",
      "\n",
      "1. **_u_ \u306f\u5897\u52a0\u3002_v_ \u306f\u6e1b\u5c11**  \n",
      "_v_ \u306b\u3088\u308b\u4e0d\u6d3b\u6027\u5316\u304c\u6e1b\u5c11\u3059\u308b\u3053\u3068\u3067\u3001_u_ \u304c -2.0 \u4ed8\u8fd1\u304b\u3089\u5f90\u3005\u306b\u5897\u52a0\u3057\u3066\u3044\u304f\u3002  \n",
      "_v_ \u304c\u30bc\u30ed\u3092\u3084\u3084\u4e0b\u56de\u3063\u305f\u3068\u3053\u308d\u3067\u3001_v_ \u306e\u5909\u5316\u901f\u5ea6\u304c\u30bc\u30ed\u306b\u306a\u308a\u3001\u4ee5\u964d\u3001\u5897\u52a0\u306b\u8ee2\u3058\u308b\u3002\n",
      "2. **_u_, _v_ \u3068\u3082\u306b\u5897\u52a0**  \n",
      "_u_ = -1.0 \u3067\u3001_u_ \u306b\u3088\u308b\u81ea\u8eab\u3078\u306e\u6291\u5236\u306f\u6700\u5927\u3068\u306a\u308a\u3001\u3053\u308c\u3092\u8d85\u3048\u308b\u3068\u3001\u6291\u5236\u304c\u6e1b\u5c11\u3057\u3001_u_ = 0 \u3092\u8d85\u3048\u305f\u3068\u3053\u308d\u3067\u81ea\u5df1\u523a\u6fc0\uff08\u30dd\u30b8\u30c6\u30a3\u30d6\u30d5\u30a3\u30fc\u30c9\u30d0\u30c3\u30af\uff09\u306b\u8ee2\u3058\u3001_u_ \u306f\u7206\u767a\u7684\u306b\u5897\u52a0\u3059\u308b\u3002_u_ \u306e\u81ea\u5df1\u523a\u6fc0\u306f\u3001_u_ = 1.0 \u3067\u6975\u5927\u3068\u306a\u308b\u3002  \n",
      "\u307e\u305f\u3001_u_ \u306e\u5897\u52a0\u306b\u3088\u308a\u3001_v_ \u304c\u523a\u6fc0\u3055\u308c\u3001\u5897\u52a0\u306b\u8ee2\u3058\u308b\u3002\n",
      "3. **_u_ \u306f\u6e1b\u5c11\u3002_v_ \u306f\u5897\u52a0**  \n",
      "_u_ \u306b\u3088\u308b\u81ea\u5df1\u523a\u6fc0\u306f _u_ = \u221a3 \u3067\u30bc\u30ed\u306b\u306a\u308a\u3001\u3053\u306e\u4ed8\u8fd1\u3067\u3001\u5897\u52a0\u3057\u305f _v_ \u306b\u3088\u308b\u4e0d\u6d3b\u6027\u5316\u304c _u_ \u306e\u5897\u52a0\uff08\u81ea\u5df1\u523a\u6fc0\u304a\u3088\u3073 _I_ \uff09\u3092\u4e0a\u56de\u308a\u3001_u_ \u306f\u6e1b\u5c11\u306b\u8ee2\u3058\u308b\u3002  \n",
      "\u305d\u306e\u969b\u3001_u_ = 1.0 \u4ed8\u8fd1\u3067\u306f\u3001_u_ \u306b\u3088\u308b\u81ea\u5df1\u523a\u6fc0\u3067\u3001\u6e1b\u5c11\u306b\u6b6f\u6b62\u3081\u304c\u304b\u304b\u308b\u304c\u3001\u8e0f\u307f\u3053\u3089\u3048\u3089\u308c\u305a\u306b _u_ \u306e\u6e1b\u5c11\u306f\u3064\u3065\u304f\u3002\n",
      "4. **_u_, _v_ \u3068\u3082\u306b\u6e1b\u5c11**  \n",
      "_u_ \uff1c 0 \u3068\u306a\u308b\u3053\u3068\u3067\u3001_u_ \u306e\u81ea\u8eab\u3078\u306e\u52b9\u679c\u306f\u6291\u5236\u306b\u8ee2\u3058\u3001_u_ \u306f\u6025\u6fc0\u306b\u6e1b\u5c11\u3059\u308b\u3002  \n",
      "\u3053\u306e\u3068\u304d _u_ \u306f\u3001_v_ \u3082\u6291\u5236\u3059\u308b\u306e\u3067\u3001_v_ \u3082\u6e1b\u5c11\u306b\u8ee2\u3058\u308b\u3002  \n",
      "_u_ = -\u221a3 \u3067 _u_ \u306b\u3088\u308b\u81ea\u5df1\u6291\u5236\u306f\u30bc\u30ed\u306b\u306a\u308a\u3001\u3053\u306e\u4ed8\u8fd1\u3067 _u_ \u306e\u6e1b\u5c11\u306f\u6b62\u307e\u308a\u3001\u5897\u52a0\u306b\u8ee2\u3058\u308b\u3002"
     ]
    }
   ],
   "metadata": {}
  }
 ]
}