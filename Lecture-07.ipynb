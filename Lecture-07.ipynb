{
 "metadata": {
  "name": "",
  "signature": "sha256:9d65c81edee65673b05f2db462e72160f10f520accfcac80233159f983229856"
 },
 "nbformat": 3,
 "nbformat_minor": 0,
 "worksheets": [
  {
   "cells": [
    {
     "cell_type": "heading",
     "level": 1,
     "metadata": {},
     "source": [
      "Python\u30d7\u30ed\u30b0\u30e9\u30df\u30f3\u30b0\u306e\u57fa\u790e"
     ]
    },
    {
     "cell_type": "markdown",
     "metadata": {},
     "source": [
      "* \u5909\u6570\n",
      "* \u56db\u5247\u6f14\u7b97\uff0b\u03b1\n",
      "* \u95a2\u6570\n",
      "* \u7e70\u308a\u8fd4\u3057\u51e6\u7406\n",
      "* \u6761\u4ef6\u5206\u5c90"
     ]
    },
    {
     "cell_type": "heading",
     "level": 2,
     "metadata": {},
     "source": [
      "\u5909\u6570"
     ]
    },
    {
     "cell_type": "code",
     "collapsed": false,
     "input": [
      "# \u30b3\u30e1\u30f3\u30c8\u3000\u300c#\u300d\uff08\u30b7\u30e3\u30fc\u30d7\uff09\u4ee5\u964d\u306f\u3001\u884c\u672b\u307e\u3067\u3001\u30b3\u30e1\u30f3\u30c8\u3068\u3057\u3066\u7121\u8996\u3055\u308c\u308b\n",
      "\n",
      "# \u6574\u6570 int\n",
      "a = 1\n",
      "# \u6d6e\u52d5\u5c0f\u6570\u70b9\u6570 float\uff08\u5b9f\u6570\u3068\u3057\u3066\u7528\u3044\u308b\uff09\n",
      "b = 1.00\n",
      "# \u6587\u5b57\u5217\n",
      "c = \"1.00\"\n",
      "\n",
      "# \u300cprint \u25cb\u25cb\u25cb\u300d\u3067\u3001\u25cb\u25cb\u25cb \u3092\u51fa\u529b\u3059\u308b\u3002\n",
      "print a\n",
      "print b\n",
      "print c"
     ],
     "language": "python",
     "metadata": {},
     "outputs": [
      {
       "output_type": "stream",
       "stream": "stdout",
       "text": [
        "1\n",
        "1.0\n",
        "1.00\n"
       ]
      }
     ],
     "prompt_number": 1
    },
    {
     "cell_type": "markdown",
     "metadata": {},
     "source": [
      "* \u6587\u5b57\u5217\u306f `'` \uff08\u4e00\u91cd\u5f15\u7528\u7b26\uff09\u307e\u305f\u306f `\"` \uff08\u4e8c\u91cd\u5f15\u7528\u7b26\uff09\u3067\u56f2\u3046\u3002\n",
      "    * `'''abc'''`, `\"\"\"ABC\"\"\"` \u306e\u3088\u3046\u306b\u5f15\u7528\u7b26\u3092\uff13\u500b\u7e4b\u3052\u308b\u3053\u3068\u3082\u3067\u304d\u308b\uff08\u4e09\u91cd\u5f15\u7528\u7b26\uff09\u3002\u4e09\u91cd\u5f15\u7528\u7b26\u3092\u7528\u3044\u308b\u3068\u6587\u5b57\u5217\u5185\u306b\u6539\u884c\u6587\u5b57\u3092\u7528\u3044\u308b\u3053\u3068\u304c\u3067\u304d\u308b\u3002\n",
      "    * \u5f15\u7528\u7b26\u3072\u3068\u3064\u3067\u56f2\u3063\u305f\u6587\u5b57\u5217\u4e2d\u306b\u6539\u884c\u3092\u5165\u308c\u308b\u5834\u5408\u306b\u306f\u3001\u30a8\u30b9\u30b1\u30fc\u30d7\u6587\u5b57 `\\n`\u3092\u5229\u7528\u3059\u308b\u3002"
     ]
    },
    {
     "cell_type": "code",
     "collapsed": false,
     "input": [
      "# \u5358\u7d14\u306a\u6587\u5b57\u5217\n",
      "\n",
      "print 'abc'"
     ],
     "language": "python",
     "metadata": {},
     "outputs": [
      {
       "output_type": "stream",
       "stream": "stdout",
       "text": [
        "abc\n"
       ]
      }
     ],
     "prompt_number": 2
    },
    {
     "cell_type": "code",
     "collapsed": false,
     "input": [
      "# \u4e09\u91cd\u5f15\u7528\u7b26\u3092\u5229\u7528\u3057\u3066\u6539\u884c\u306e\u5165\u3063\u305f\u6587\u5b57\u5217\n",
      "\n",
      "print \"\"\"1-2-3\n",
      "4-5-6\n",
      "7-8-9\"\"\""
     ],
     "language": "python",
     "metadata": {},
     "outputs": [
      {
       "output_type": "stream",
       "stream": "stdout",
       "text": [
        "1-2-3\n",
        "4-5-6\n",
        "7-8-9\n"
       ]
      }
     ],
     "prompt_number": 3
    },
    {
     "cell_type": "code",
     "collapsed": false,
     "input": [
      "# \u30a8\u30b9\u30b1\u30fc\u30d7\u6587\u5b57 \\n \u3092\u5229\u7528\u3057\u3066\u6539\u884c\u3092\u5165\u308c\u308b\n",
      "\n",
      "print \"1-2-3\\n4-5-6\\n7-8-9\""
     ],
     "language": "python",
     "metadata": {},
     "outputs": [
      {
       "output_type": "stream",
       "stream": "stdout",
       "text": [
        "1-2-3\n",
        "4-5-6\n",
        "7-8-9\n"
       ]
      }
     ],
     "prompt_number": 4
    },
    {
     "cell_type": "heading",
     "level": 3,
     "metadata": {},
     "source": [
      "\u914d\u5217"
     ]
    },
    {
     "cell_type": "markdown",
     "metadata": {},
     "source": [
      "\u8907\u6570\u306e\u8981\u7d20\u3092\u3068\u308a\u307e\u3068\u3081\u305f\u30aa\u30d6\u30b8\u30a7\u30af\u30c8\u578b\n",
      "* \u30ea\u30b9\u30c8 list\n",
      "* \u8f9e\u66f8 dict"
     ]
    },
    {
     "cell_type": "heading",
     "level": 4,
     "metadata": {},
     "source": [
      "\u30ea\u30b9\u30c8"
     ]
    },
    {
     "cell_type": "code",
     "collapsed": false,
     "input": [
      "# \u5168\u4f53\u3092 [] \u3067\u56f2\u3046\u3002\n",
      "# \u8981\u7d20\u306f\u300c,\u300d\u3067\u533a\u5207\u308b\u3002\n",
      "\n",
      "d = [ \"S\", \"F\", \"C\" ]"
     ],
     "language": "python",
     "metadata": {},
     "outputs": [],
     "prompt_number": 5
    },
    {
     "cell_type": "code",
     "collapsed": false,
     "input": [
      "print d[0]\n",
      "print d[1]\n",
      "print d[2]"
     ],
     "language": "python",
     "metadata": {},
     "outputs": [
      {
       "output_type": "stream",
       "stream": "stdout",
       "text": [
        "S\n",
        "F\n",
        "C\n"
       ]
      }
     ],
     "prompt_number": 6
    },
    {
     "cell_type": "code",
     "collapsed": false,
     "input": [
      "e = [ a, b, c ]\n",
      "print e[0]\n",
      "print e[1]\n",
      "print e[2]"
     ],
     "language": "python",
     "metadata": {},
     "outputs": [
      {
       "output_type": "stream",
       "stream": "stdout",
       "text": [
        "1\n",
        "1.0\n",
        "1.00\n"
       ]
      }
     ],
     "prompt_number": 7
    },
    {
     "cell_type": "heading",
     "level": 4,
     "metadata": {},
     "source": [
      "\u8f9e\u66f8"
     ]
    },
    {
     "cell_type": "code",
     "collapsed": false,
     "input": [
      "# \u5168\u4f53\u3092 {} \u3067\u56f2\u3046\u3002\n",
      "\n",
      "# \u30ad\u30fc kay \u3068\u5024 value\n",
      "# key \u3068 vlue \u306f\u300c:\u300d\u3067\u533a\u5207\u308b\u3002\n",
      "# \u8981\u7d20\u306f\u300c,\u300d\u3067\u533a\u5207\u308b\u3002\n",
      "\n",
      "f = { \"int\":1, \"float\":1.00, \"str\":\"1.00\"}"
     ],
     "language": "python",
     "metadata": {},
     "outputs": [],
     "prompt_number": 8
    },
    {
     "cell_type": "code",
     "collapsed": false,
     "input": [
      "# \u30ad\u30fc\u3092\u6307\u5b9a\u3059\u308b\u3068\u3001\u5024\u304c\u8fd4\u3063\u3066\u304f\u308b\u3002\n",
      "\n",
      "print f[\"int\"]\n",
      "print f[\"float\"]\n",
      "print f[\"str\"]"
     ],
     "language": "python",
     "metadata": {},
     "outputs": [
      {
       "output_type": "stream",
       "stream": "stdout",
       "text": [
        "1\n",
        "1.0\n",
        "1.00\n"
       ]
      }
     ],
     "prompt_number": 9
    },
    {
     "cell_type": "code",
     "collapsed": false,
     "input": [
      "# \u533a\u5207\u308a\u6587\u5b57\u300c{\u300d\u300c}\u300d\u300c,\u300d\u300c:\u300d\u306e\u524d\u5f8c\u306b\u306f\u3001\n",
      "# \u7a7a\u767d\u6587\u5b57\u3092\u5165\u308c\u308b\u3053\u3068\u304c\u3067\u304d\u308b\u3002\n",
      "# \u6539\u884c\uff08\u7a7a\u767d\u6587\u5b57\u306e\u4e00\u7a2e\uff09\u3092\u5165\u308c\u3066\u898b\u3084\u3059\u304f\u3059\u308b\u3053\u3068\u3082\u3067\u304d\u308b\u3002\n",
      "\n",
      "f = { \"int\"  : 1, \n",
      "      \"float\": 1.00, \n",
      "      \"str\"  : \"1.00\" }\n",
      "\n",
      "print f[\"int\"]\n",
      "print f[\"float\"]\n",
      "print f[\"str\"]"
     ],
     "language": "python",
     "metadata": {},
     "outputs": [
      {
       "output_type": "stream",
       "stream": "stdout",
       "text": [
        "1\n",
        "1.0\n",
        "1.00\n"
       ]
      }
     ],
     "prompt_number": 10
    },
    {
     "cell_type": "code",
     "collapsed": false,
     "input": [
      "# Python \u3067\u306f\u3001\u6539\u884c\u3059\u308b\u3053\u3068\u3067\u6587\u306e\u533a\u5207\u308a\u3068\u306a\u308b\u3002\n",
      "# \u300c;\u300d\u3092\u5165\u308c\u308b\u3053\u3068\u3067\u3001\u884c\u306e\u9014\u4e2d\u3067\u6587\u3092\u533a\u5207\u308b\u3053\u3068\u304c\u3067\u304d\u308b\u3002\n",
      "# \uff08\uff11\u884c\u306b\u8907\u6570\u306e\u6587\u3092\u66f8\u3051\u308b\uff09\n",
      "\n",
      "g = \"int\"; h = \"float\"; i = \"str\""
     ],
     "language": "python",
     "metadata": {},
     "outputs": [],
     "prompt_number": 11
    },
    {
     "cell_type": "code",
     "collapsed": false,
     "input": [
      "# \u8f9e\u66f8\u306e\u30ad\u30fc\u3092\u5909\u6570\u3067\u6307\u5b9a\u3059\u308b\u3053\u3068\u304c\u3067\u304d\u308b\u3002\n",
      "\n",
      "print f[ g ]\n",
      "print f[ h ]\n",
      "print f[ i ]"
     ],
     "language": "python",
     "metadata": {},
     "outputs": [
      {
       "output_type": "stream",
       "stream": "stdout",
       "text": [
        "1\n",
        "1.0\n",
        "1.00\n"
       ]
      }
     ],
     "prompt_number": 12
    },
    {
     "cell_type": "heading",
     "level": 2,
     "metadata": {},
     "source": [
      "\u56db\u5247\u6f14\u7b97\uff0b\u03b1"
     ]
    },
    {
     "cell_type": "code",
     "collapsed": false,
     "input": [
      "1 + 1"
     ],
     "language": "python",
     "metadata": {},
     "outputs": [
      {
       "metadata": {},
       "output_type": "pyout",
       "prompt_number": 13,
       "text": [
        "2"
       ]
      }
     ],
     "prompt_number": 13
    },
    {
     "cell_type": "code",
     "collapsed": false,
     "input": [
      "1 - 1"
     ],
     "language": "python",
     "metadata": {},
     "outputs": [
      {
       "metadata": {},
       "output_type": "pyout",
       "prompt_number": 14,
       "text": [
        "0"
       ]
      }
     ],
     "prompt_number": 14
    },
    {
     "cell_type": "code",
     "collapsed": false,
     "input": [
      "# \u4e57\u7b97\u306e\u8a18\u53f7\u306f\u300c\u00d7\u300d\u3067\u306f\u306a\u304f\u300c*\u300d\n",
      "2 * 3"
     ],
     "language": "python",
     "metadata": {},
     "outputs": [
      {
       "metadata": {},
       "output_type": "pyout",
       "prompt_number": 15,
       "text": [
        "6"
       ]
      }
     ],
     "prompt_number": 15
    },
    {
     "cell_type": "code",
     "collapsed": false,
     "input": [
      "# \u9664\u7b97\u306e\u8a18\u53f7\u306f\u300c\u00f7\u300d\u3067\u306f\u306a\u304f\u300c/\u300d\n",
      "6 / 2"
     ],
     "language": "python",
     "metadata": {},
     "outputs": [
      {
       "metadata": {},
       "output_type": "pyout",
       "prompt_number": 16,
       "text": [
        "3"
       ]
      }
     ],
     "prompt_number": 16
    },
    {
     "cell_type": "code",
     "collapsed": false,
     "input": [
      "# \u3079\u304d\u4e57\u306e\u8a18\u53f7\u306f\u300c**\u300d\n",
      "\n",
      "# \u4ed6\u306e\u591a\u304f\u306e\u30d7\u30ed\u30b0\u30e9\u30df\u30f3\u30b0\u8a00\u8a9e\u3084\u30bd\u30d5\u30c8\u30a6\u30a7\u30a2\u3067\u306f\u3001\n",
      "# \u3079\u304d\u4e57\u6f14\u7b97\u5b50\u304c\u300c^\u300d\u3067\u3059\u304c\u3001Python\u3067\u306f\u5225\u306e\u610f\u5473\n",
      "# \uff08\u30d3\u30c3\u30c8\u6f14\u7b97\u5b50\uff09\u304c\u3042\u308b\u306e\u3067\u3001\u8aa4\u7528\u3057\u306a\u3044\u3088\u3046\u306b\u8981\u6ce8\u610f\u3002\n",
      "# \u6574\u6570\u306e\u6f14\u7b97\u306b\u300c^\u300d\u3092\u4f7f\u3046\u3068\u3001\u30a8\u30e9\u30fc\u304c\u51fa\u305a\u3001\u3079\u304d\u4e57\u3068\u306f\n",
      "# \u7570\u306a\u308b\u6f14\u7b97\u7d50\u679c\u3067\u8a08\u7b97\u304c\u9032\u3093\u3067\u3057\u307e\u3044\u3001\u30d0\u30b0\u306e\u539f\u56e0\u306b\u306a\u308b\u3002\n",
      "\n",
      "2 ** 3"
     ],
     "language": "python",
     "metadata": {},
     "outputs": [
      {
       "metadata": {},
       "output_type": "pyout",
       "prompt_number": 17,
       "text": [
        "8"
       ]
      }
     ],
     "prompt_number": 17
    },
    {
     "cell_type": "heading",
     "level": 3,
     "metadata": {},
     "source": [
      "\u6574\u6570 int \u3068\u6d6e\u52d5\u5c0f\u6570\u70b9\u6570 float \u306e\u9055\u3044"
     ]
    },
    {
     "cell_type": "heading",
     "level": 4,
     "metadata": {},
     "source": [
      "float\u306e\u9664\u7b97"
     ]
    },
    {
     "cell_type": "code",
     "collapsed": false,
     "input": [
      "1.0 / 3.0"
     ],
     "language": "python",
     "metadata": {},
     "outputs": [
      {
       "metadata": {},
       "output_type": "pyout",
       "prompt_number": 18,
       "text": [
        "0.3333333333333333"
       ]
      }
     ],
     "prompt_number": 18
    },
    {
     "cell_type": "code",
     "collapsed": false,
     "input": [
      "1 / 3"
     ],
     "language": "python",
     "metadata": {},
     "outputs": [
      {
       "metadata": {},
       "output_type": "pyout",
       "prompt_number": 19,
       "text": [
        "0"
       ]
      }
     ],
     "prompt_number": 19
    },
    {
     "cell_type": "code",
     "collapsed": false,
     "input": [
      "# \u5546\u3068\u5270\u4f59\n",
      "# \u5270\u4f59\u3092\u6c42\u3081\u308b\u6f14\u7b97\u5b50\u306f\u300c%\u300d\n",
      "1 % 3"
     ],
     "language": "python",
     "metadata": {},
     "outputs": [
      {
       "metadata": {},
       "output_type": "pyout",
       "prompt_number": 20,
       "text": [
        "1"
       ]
      }
     ],
     "prompt_number": 20
    },
    {
     "cell_type": "code",
     "collapsed": false,
     "input": [
      "# int \u3068 float \u306e\u6f14\u7b97\u3092\u884c\u3046\u3068\u3001float \u306e\u6f14\u7b97\u3068\u3057\u3066\u5b9f\u884c\u3055\u308c\u307e\u3059\u3002\n",
      "\n",
      "1 / 3.0"
     ],
     "language": "python",
     "metadata": {},
     "outputs": [
      {
       "metadata": {},
       "output_type": "pyout",
       "prompt_number": 21,
       "text": [
        "0.3333333333333333"
       ]
      }
     ],
     "prompt_number": 21
    },
    {
     "cell_type": "markdown",
     "metadata": {},
     "source": [
      "\u5b9f\u6570\u3067\u8a08\u7b97\u3059\u308b\u969b\u306b\u306f\u300c1\u300d\u3067\u306f\u306a\u304f\u300c1.0\u300d\u3068\u66f8\u304f\u3053\u3068\u3092\u7fd2\u6163\u3065\u3051\u307e\u3057\u3087\u3046\u3002"
     ]
    },
    {
     "cell_type": "heading",
     "level": 3,
     "metadata": {},
     "source": [
      "\u3010Tips\u3011\u30c7\u30fc\u30bf\u578b\u306e\u78ba\u8a8d"
     ]
    },
    {
     "cell_type": "markdown",
     "metadata": {},
     "source": [
      "IPython\u3067\u306f\u3001\u5909\u6570\u306e\u524d\u306b\u300c`?`\u300d\u3092\u3064\u3051\u305f\u30b3\u30de\u30f3\u30c9\u3092\u5b9f\u884c\u3059\u308b\u3053\u3068\u3067\u3001\u30d7\u30ed\u30b0\u30e9\u30e0\u4e2d\u306e\u5909\u6570\u306e\u578b\u306a\u3069\u306e\u60c5\u5831\u3092\u78ba\u8a8d\u3067\u304d\u307e\u3059\u3002"
     ]
    },
    {
     "cell_type": "code",
     "collapsed": false,
     "input": [
      "?a"
     ],
     "language": "python",
     "metadata": {},
     "outputs": [],
     "prompt_number": 22
    },
    {
     "cell_type": "code",
     "collapsed": false,
     "input": [
      "?b"
     ],
     "language": "python",
     "metadata": {},
     "outputs": [],
     "prompt_number": 23
    },
    {
     "cell_type": "code",
     "collapsed": false,
     "input": [
      "?c"
     ],
     "language": "python",
     "metadata": {},
     "outputs": [],
     "prompt_number": 24
    },
    {
     "cell_type": "code",
     "collapsed": false,
     "input": [
      "?d"
     ],
     "language": "python",
     "metadata": {},
     "outputs": [],
     "prompt_number": 25
    },
    {
     "cell_type": "code",
     "collapsed": false,
     "input": [
      "?f"
     ],
     "language": "python",
     "metadata": {},
     "outputs": [],
     "prompt_number": 26
    },
    {
     "cell_type": "heading",
     "level": 3,
     "metadata": {},
     "source": [
      "\u6587\u5b57\u5217 str \u306e\u6f14\u7b97"
     ]
    },
    {
     "cell_type": "code",
     "collapsed": false,
     "input": [
      "d"
     ],
     "language": "python",
     "metadata": {},
     "outputs": [
      {
       "metadata": {},
       "output_type": "pyout",
       "prompt_number": 27,
       "text": [
        "['S', 'F', 'C']"
       ]
      }
     ],
     "prompt_number": 27
    },
    {
     "cell_type": "code",
     "collapsed": false,
     "input": [
      "# \u300c+\u300d\u6f14\u7b97\u5b50\u3067\u3001\u6587\u5b57\u5217\u3092\u9023\u7d50\u3067\u304d\u308b\u3002\n",
      "d[0] + d[1] + d[2]"
     ],
     "language": "python",
     "metadata": {},
     "outputs": [
      {
       "metadata": {},
       "output_type": "pyout",
       "prompt_number": 28,
       "text": [
        "'SFC'"
       ]
      }
     ],
     "prompt_number": 28
    },
    {
     "cell_type": "markdown",
     "metadata": {},
     "source": [
      "\"5 / 3 = 1, remainder = 2\" \u306e\u3088\u3046\u306a\u51fa\u529b\u3092\u3060\u3057\u305f\u3044"
     ]
    },
    {
     "cell_type": "code",
     "collapsed": false,
     "input": [
      "quotient  = 5 / 3\n",
      "remainder = 5 % 3"
     ],
     "language": "python",
     "metadata": {},
     "outputs": [],
     "prompt_number": 29
    },
    {
     "cell_type": "code",
     "collapsed": false,
     "input": [
      "# \u4e0b\u306e\u3088\u3046\u306a\u66f8\u304d\u65b9\u306f\u30a8\u30e9\u30fc\u306b\u306a\u308b\n",
      "\n",
      "print \"5 / 3 = \" + quotient + \", remainder = \" + remainder"
     ],
     "language": "python",
     "metadata": {},
     "outputs": [
      {
       "ename": "TypeError",
       "evalue": "cannot concatenate 'str' and 'int' objects",
       "output_type": "pyerr",
       "traceback": [
        "\u001b[0;31m---------------------------------------------------------------------------\u001b[0m\n\u001b[0;31mTypeError\u001b[0m                                 Traceback (most recent call last)",
        "\u001b[0;32m<ipython-input-30-8382c94a686d>\u001b[0m in \u001b[0;36m<module>\u001b[0;34m()\u001b[0m\n\u001b[1;32m      1\u001b[0m \u001b[0;31m# \u4e0b\u306e\u3088\u3046\u306a\u66f8\u304d\u65b9\u306f\u30a8\u30e9\u30fc\u306b\u306a\u308b\u001b[0m\u001b[0;34m\u001b[0m\u001b[0;34m\u001b[0m\u001b[0m\n\u001b[1;32m      2\u001b[0m \u001b[0;34m\u001b[0m\u001b[0m\n\u001b[0;32m----> 3\u001b[0;31m \u001b[0;32mprint\u001b[0m \u001b[0;34m\"5 / 3 = \"\u001b[0m \u001b[0;34m+\u001b[0m \u001b[0mquotient\u001b[0m \u001b[0;34m+\u001b[0m \u001b[0;34m\", remainder = \"\u001b[0m \u001b[0;34m+\u001b[0m \u001b[0mremainder\u001b[0m\u001b[0;34m\u001b[0m\u001b[0m\n\u001b[0m",
        "\u001b[0;31mTypeError\u001b[0m: cannot concatenate 'str' and 'int' objects"
       ]
      }
     ],
     "prompt_number": 30
    },
    {
     "cell_type": "markdown",
     "metadata": {},
     "source": [
      "\u30a8\u30e9\u30fc\u306e\u539f\u56e0\u306f str \u3068 int \u306e\u6f14\u7b97\u3092\u884c\u304a\u3046\u3068\u3057\u305f\u305f\u3081\u3002  \n",
      "\u3053\u306e\u5834\u5408\u3001\u5168\u90e8 str \u3068\u3057\u3066\u6f14\u7b97\u3057\u3066\u307b\u3057\u3044\u3002  \n",
      "`str(` _\u5909\u6570_ `)` \u3068\u66f8\u304f\u3068\u3001_\u5909\u6570_ \u306e\u578b\u3092 str \u306b\u5909\u63db\u3057\u3066\u304f\u308c\u308b\u3002"
     ]
    },
    {
     "cell_type": "code",
     "collapsed": false,
     "input": [
      "print \"5 / 3 = \" + str( quotient ) + \", remainder = \" + str( remainder )"
     ],
     "language": "python",
     "metadata": {},
     "outputs": [
      {
       "output_type": "stream",
       "stream": "stdout",
       "text": [
        "5 / 3 = 1, remainder = 2\n"
       ]
      }
     ],
     "prompt_number": 31
    },
    {
     "cell_type": "heading",
     "level": 2,
     "metadata": {},
     "source": [
      "\u95a2\u6570"
     ]
    },
    {
     "cell_type": "markdown",
     "metadata": {},
     "source": [
      "\u7b2c\uff11\u56de\u3092\u53c2\u7167  \n",
      "\u524d\u9805\u306e `str()` \u3082\u95a2\u6570\u306e\u3072\u3068\u3064"
     ]
    },
    {
     "cell_type": "heading",
     "level": 2,
     "metadata": {},
     "source": [
      "\u7e70\u308a\u8fd4\u3057\u51e6\u7406\uff08\u30eb\u30fc\u30d7\uff09"
     ]
    },
    {
     "cell_type": "heading",
     "level": 3,
     "metadata": {},
     "source": [
      "for \u6587"
     ]
    },
    {
     "cell_type": "markdown",
     "metadata": {},
     "source": [
      "**\u66f8\u5f0f**\n",
      "```\n",
      "for \u5909\u6570 in \u30ea\u30b9\u30c8:\n",
      "    \u51e6\u7406\uff11\n",
      "    \u51e6\u7406\uff12\n",
      "    \uff1a\n",
      "    \uff1a\n",
      "```\n"
     ]
    },
    {
     "cell_type": "markdown",
     "metadata": {},
     "source": [
      "\u30a4\u30f3\u30c7\u30f3\u30c8\uff08\u5b57\u4e0b\u3052\uff09\u304c\u91cd\u8981\u3002  \n",
      "for \u6587\u3067\u51e6\u7406\u3092\u3059\u308b\u30d6\u30ed\u30c3\u30af\u306b\u306f\u30a4\u30f3\u30c7\u30f3\u30c8\u3092\u5165\u308c\u308b\u3002  \n",
      "\u30a4\u30f3\u30c7\u30f3\u30c8\u304c\u306a\u3044\u884c\u4ee5\u964d\u306f\u3001for \u6587\u306e\u5916\u3068\u5224\u65ad\u3055\u308c\u308b\u3002"
     ]
    },
    {
     "cell_type": "code",
     "collapsed": false,
     "input": [
      "for x in [ 1, 2, 3 ]:\n",
      "    print \"1 + \" + str( x ) + \" = \" + str( 1 + x )\n",
      "print \"finished\""
     ],
     "language": "python",
     "metadata": {},
     "outputs": [
      {
       "output_type": "stream",
       "stream": "stdout",
       "text": [
        "1 + 1 = 2\n",
        "1 + 2 = 3\n",
        "1 + 3 = 4\n",
        "finished\n"
       ]
      }
     ],
     "prompt_number": 32
    },
    {
     "cell_type": "code",
     "collapsed": false,
     "input": [
      "d"
     ],
     "language": "python",
     "metadata": {},
     "outputs": [
      {
       "metadata": {},
       "output_type": "pyout",
       "prompt_number": 33,
       "text": [
        "['S', 'F', 'C']"
       ]
      }
     ],
     "prompt_number": 33
    },
    {
     "cell_type": "code",
     "collapsed": false,
     "input": [
      "for x in d:\n",
      "    print x"
     ],
     "language": "python",
     "metadata": {},
     "outputs": [
      {
       "output_type": "stream",
       "stream": "stdout",
       "text": [
        "S\n",
        "F\n",
        "C\n"
       ]
      }
     ],
     "prompt_number": 34
    },
    {
     "cell_type": "code",
     "collapsed": false,
     "input": [
      "# range() \u306f\u6574\u6570\u306e\u30ea\u30b9\u30c8\u3092\u3064\u304f\u308b\u95a2\u6570\n",
      "# range( n ) \u306f 0 \u3092\u8d77\u70b9\u306b\u3001n \u500b\u306e\u8981\u7d20\u3092\u6301\u3064\u30ea\u30b9\u30c8\u3092\u8fd4\u3059\u3002\n",
      "\n",
      "range( 10 )"
     ],
     "language": "python",
     "metadata": {},
     "outputs": [
      {
       "metadata": {},
       "output_type": "pyout",
       "prompt_number": 35,
       "text": [
        "[0, 1, 2, 3, 4, 5, 6, 7, 8, 9]"
       ]
      }
     ],
     "prompt_number": 35
    },
    {
     "cell_type": "code",
     "collapsed": false,
     "input": [
      "# range( n, m ) \u306f n \u304b\u3089\u3001m \u306e\u76f4\u524d\uff08m - 1\uff09\u307e\u3067\u306e\u8981\u7d20\u3092\u6301\u3064\u30ea\u30b9\u30c8\u3092\u8fd4\u3059\u3002\n",
      "\n",
      "range( 1, 10 )"
     ],
     "language": "python",
     "metadata": {},
     "outputs": [
      {
       "metadata": {},
       "output_type": "pyout",
       "prompt_number": 36,
       "text": [
        "[1, 2, 3, 4, 5, 6, 7, 8, 9]"
       ]
      }
     ],
     "prompt_number": 36
    },
    {
     "cell_type": "code",
     "collapsed": false,
     "input": [
      "# range( n, m, l ) \u306f n \u304b\u3089\u3001\u9593\u9694 l \u3067\u3001m \u306e\u76f4\u524d\uff08m - 1\uff09\u307e\u3067\u306e\u8981\u7d20\u3092\u6301\u3064\u30ea\u30b9\u30c8\u3092\u8fd4\u3059\u3002\n",
      "\n",
      "range( 1, 10, 2 )"
     ],
     "language": "python",
     "metadata": {},
     "outputs": [
      {
       "metadata": {},
       "output_type": "pyout",
       "prompt_number": 37,
       "text": [
        "[1, 3, 5, 7, 9]"
       ]
      }
     ],
     "prompt_number": 37
    },
    {
     "cell_type": "code",
     "collapsed": false,
     "input": [
      "# 1 \u304b\u3089 100 \u307e\u3067\u306e\u6574\u6570\u306e\u548c\u3092\u6c42\u3081\u308b\n",
      "\n",
      "start = 1\n",
      "end = 100\n",
      "\n",
      "total = 0\n",
      "for x in range( start, end + 1 ):\n",
      "    total = total + x\n",
      "\n",
      "print \"The sum of the numbers from \" + str( start ) + \" to \" + str( end ) + \" is \" + str( total ) + \".\""
     ],
     "language": "python",
     "metadata": {},
     "outputs": [
      {
       "output_type": "stream",
       "stream": "stdout",
       "text": [
        "The sum of the numbers from 1 to 100 is 5050.\n"
       ]
      }
     ],
     "prompt_number": 38
    },
    {
     "cell_type": "heading",
     "level": 3,
     "metadata": {},
     "source": [
      "\u6587\u5b57\u5217\u30d5\u30a9\u30fc\u30de\u30c3\u30c8\u3067\u51fa\u529b\u3092\u30b9\u30de\u30fc\u30c8\u306b\u66f8\u304f"
     ]
    },
    {
     "cell_type": "markdown",
     "metadata": {},
     "source": [
      "\u95a2\u6570 `format()` \u3067\u3001\u6587\u5b57\u5217\u306b\u5909\u6570\u3092\u57cb\u3081\u8fbc\u3080\u3002"
     ]
    },
    {
     "cell_type": "code",
     "collapsed": false,
     "input": [
      "output = \"The sum of the numbers from {} to {} is {}.\"\n",
      "print output.format( start, end, total )"
     ],
     "language": "python",
     "metadata": {},
     "outputs": [
      {
       "output_type": "stream",
       "stream": "stdout",
       "text": [
        "The sum of the numbers from 1 to 100 is 5050.\n"
       ]
      }
     ],
     "prompt_number": 39
    },
    {
     "cell_type": "markdown",
     "metadata": {},
     "source": [
      "* \u51fa\u529b\u3057\u305f\u3044\u6587\u5b57\u5217\u4e2d\u306e _\u5909\u6570_ \u3092\u57cb\u3081\u8fbc\u3080\u5834\u6240\u306b `{}` \u3092\u66f8\u304d\u8fbc\u3093\u3067\u304a\u304f\u3002\n",
      "* `format()` \u95a2\u6570\u3092\u547c\u3073\u51fa\u3057\u3001\u5f15\u6570\u306b `{}` \u3092\u7f6e\u304d\u63db\u3048\u308b\u5909\u6570\u3092\u9806\u756a\u306b\u6307\u5b9a\u3059\u308b\u3002\n",
      "* \u4e0b\u306e\u4f8b\u306e\u3088\u3046\u306b`{}` \u306e\u4e2d\u306b\u30ad\u30fc\u30ef\u30fc\u30c9\uff08\u3053\u3053\u3067\u306f `st, en, to`\uff09\u3092\u3044\u308c\u3066\u3001\u5f15\u6570\u3067\u30ad\u30fc\u30ef\u30fc\u30c9\u306b\u5bfe\u5fdc\u3059\u308b\u5909\u6570\u3092\u6307\u5b9a\u3059\u308b\u3053\u3068\u3082\u3067\u304d\u308b\u3002"
     ]
    },
    {
     "cell_type": "code",
     "collapsed": false,
     "input": [
      "output = \"The sum of the numbers from {st} to {en} is {to}.\"\n",
      "print output.format( st = start, en = end, to = total )"
     ],
     "language": "python",
     "metadata": {},
     "outputs": [
      {
       "output_type": "stream",
       "stream": "stdout",
       "text": [
        "The sum of the numbers from 1 to 100 is 5050.\n"
       ]
      }
     ],
     "prompt_number": 40
    },
    {
     "cell_type": "markdown",
     "metadata": {},
     "source": [
      "* `{}` \u306e\u4e2d\u306b\u30a4\u30f3\u30c7\u30c3\u30af\u30b9\uff08\u6574\u6570\uff09\u3092\u5165\u308c\u3066\u3001\u5f15\u6570\u306e\u9806\u5e8f\u3067\u6307\u5b9a\u3059\u308b\u3053\u3068\u3082\u3067\u304d\u308b\u3002\n",
      "    * \u30a4\u30f3\u30c7\u30c3\u30af\u30b9\u3084\u30ad\u30fc\u30ef\u30fc\u30c9\u3067\u6307\u5b9a\u3059\u308b\u5834\u5408\u3001\u5f15\u6570\u306f\u6587\u5b57\u5217\u5185\u306e\u767b\u5834\u9806\u306b\u66f8\u304f\u5fc5\u8981\u306f\u306a\u3044\u3002\n",
      "    * \u30a4\u30f3\u30c7\u30c3\u30af\u30b9\u3084\u30ad\u30fc\u30ef\u30fc\u30c9\u306b\u3088\u308b\u6307\u5b9a\u306f\u3001\u30d5\u30a9\u30fc\u30de\u30c3\u30c8\u5bfe\u8c61\u5185\u3067\u540c\u3058\u5909\u6570\u3092\u4f55\u5ea6\u3082\u4f7f\u3046\u3068\u304d\u306a\u3069\u306b\u4fbf\u5229\u3002"
     ]
    },
    {
     "cell_type": "code",
     "collapsed": false,
     "input": [
      "output = \"The sum of the numbers from {0} to {1} is {2}.\"\n",
      "print output.format( start, end, total )"
     ],
     "language": "python",
     "metadata": {},
     "outputs": [
      {
       "output_type": "stream",
       "stream": "stdout",
       "text": [
        "The sum of the numbers from 1 to 100 is 5050.\n"
       ]
      }
     ],
     "prompt_number": 41
    },
    {
     "cell_type": "markdown",
     "metadata": {},
     "source": [
      "* \u6587\u5b57\u5217\u3092\u5909\u6570\u306b\u683c\u7d0d\u305b\u305a\u3001\uff11\u884c\u3067\u66f8\u304f\u3053\u3068\u3082\u3067\u304d\u308b\u3002"
     ]
    },
    {
     "cell_type": "code",
     "collapsed": false,
     "input": [
      "print \"The sum of the numbers from {st} to {en} is {to}.\".format( st = start, en = end, to = total )"
     ],
     "language": "python",
     "metadata": {},
     "outputs": [
      {
       "output_type": "stream",
       "stream": "stdout",
       "text": [
        "The sum of the numbers from 1 to 100 is 5050.\n"
       ]
      }
     ],
     "prompt_number": 42
    },
    {
     "cell_type": "heading",
     "level": 3,
     "metadata": {},
     "source": [
      "\u8f9e\u66f8\u306b\u5bfe\u3059\u308b\u30eb\u30fc\u30d7"
     ]
    },
    {
     "cell_type": "code",
     "collapsed": false,
     "input": [
      "# \u30ad\u30fc\uff1d\u56fd\u540d, \u5024\uff1d\u9996\u90fd\n",
      "\n",
      "countries = {\n",
      "    \"Brazil\" : \"Brasilia\",\n",
      "    \"Chile\" : \"Santiago\",\n",
      "    \"Colombia\" : \"Bogota\",\n",
      "    \"Uruguay\" : \"Montevideo\",\n",
      "    \"Netherlands\" : \"Amsterdam\",\n",
      "    \"Mexico\" : \"Mexico City\",\n",
      "    \"Costa Rica\" : \"San Jose\",\n",
      "    \"Greece\" : \"Athens\",\n",
      "    \"France\" : \"Paris\",\n",
      "    \"Nigeria\" : \"Abuja\",\n",
      "    \"Germany\" : \"Berlin\",\n",
      "    \"Algeria\" : \"Algiers\",\n",
      "    \"Argentina\" : \"Buenos Aires\",\n",
      "    \"Switzerland\" : \"Bern\",\n",
      "    \"Belgium\" : \"Brussels\",\n",
      "    \"United States\" : \"Washington, D.C.\" }"
     ],
     "language": "python",
     "metadata": {},
     "outputs": [],
     "prompt_number": 43
    },
    {
     "cell_type": "markdown",
     "metadata": {},
     "source": [
      "* \u95a2\u6570 items() \u3092\u4f7f\u3046\u3068\u3001\u30ad\u30fc\u3068\u5024\u306e\u30da\u30a2\u3092\u30ea\u30b9\u30c8\u3068\u3057\u3066\u53d6\u308a\u51fa\u305b\u308b"
     ]
    },
    {
     "cell_type": "code",
     "collapsed": false,
     "input": [
      "countries.items()"
     ],
     "language": "python",
     "metadata": {},
     "outputs": [
      {
       "metadata": {},
       "output_type": "pyout",
       "prompt_number": 44,
       "text": [
        "[('Brazil', 'Brasilia'),\n",
        " ('Netherlands', 'Amsterdam'),\n",
        " ('Colombia', 'Bogota'),\n",
        " ('Algeria', 'Algiers'),\n",
        " ('Uruguay', 'Montevideo'),\n",
        " ('Mexico', 'Mexico City'),\n",
        " ('Costa Rica', 'San Jose'),\n",
        " ('France', 'Paris'),\n",
        " ('United States', 'Washington, D.C.'),\n",
        " ('Belgium', 'Brussels'),\n",
        " ('Germany', 'Berlin'),\n",
        " ('Chile', 'Santiago'),\n",
        " ('Greece', 'Athens'),\n",
        " ('Switzerland', 'Bern'),\n",
        " ('Nigeria', 'Abuja'),\n",
        " ('Argentina', 'Buenos Aires')]"
       ]
      }
     ],
     "prompt_number": 44
    },
    {
     "cell_type": "markdown",
     "metadata": {},
     "source": [
      "* \u8981\u7d20\u306e\u9806\u5e8f\u304c\u767b\u9332\u9806\u306b\u306f\u306a\u3063\u3066\u3044\u306a\u3044\u3053\u3068\u306b\u6ce8\u610f\u3002\n",
      "* \u5404\u8981\u7d20\u306f `('NAGATA', 'SHOHEI')` \u306e\u3088\u3046\u306b `()` \u3067\u56f2\u308f\u308c\u3066\u3044\u308b\u3002\u3053\u308c\u306f\u3001**\u30bf\u30d7\u30eb** \u3068\u3044\u3046\u578b\u3067\u3001\u4e2d\u8eab\u3092\u66f8\u304d\u63db\u3048\u308b\u3053\u3068\u306e\u3067\u304d\u306a\u3044\u30ea\u30b9\u30c8\u3002\n",
      "    * \u5909\u66f4\u3059\u308b\u53ef\u80fd\u6027\u306e\u306a\u3044\u30c7\u30fc\u30bf\u306b\u3064\u3044\u3066\u3001\u30d7\u30ed\u30b0\u30e9\u30e0\u5185\u3067\u3001\u8aa4\u3063\u3066\u4e2d\u8eab\u3092\u66f8\u304d\u63db\u3048\u308b\u3053\u3068\u306e\u306a\u3044\u3088\u3046\u306b\u30bf\u30d7\u30eb\u3092\u7528\u3044\u3066\u304a\u304f\u3001\u3068\u3044\u3063\u305f\u5229\u7528\u65b9\u6cd5\u304c\u3042\u308b\u3002\n",
      "* \u30ad\u30fc\u3060\u3051\u3092\u53d6\u308a\u3060\u3059\u306b\u306f `keys()` \u3092\u3001\u5024\u3060\u3051\u3092\u53d6\u308a\u3060\u3059\u306b\u306f `values()` \u3092\u4f7f\u3046\u3002\n",
      "    * \u3053\u308c\u3089\u306e\u95a2\u6570\u306f\u3001\u8f9e\u66f8\u304b\u3089\u30ea\u30b9\u30c8\u3092\u751f\u6210\u3057\u3066\u3044\u308b\u3002"
     ]
    },
    {
     "cell_type": "code",
     "collapsed": false,
     "input": [
      "countries.keys()"
     ],
     "language": "python",
     "metadata": {},
     "outputs": [
      {
       "metadata": {},
       "output_type": "pyout",
       "prompt_number": 45,
       "text": [
        "['Brazil',\n",
        " 'Netherlands',\n",
        " 'Colombia',\n",
        " 'Algeria',\n",
        " 'Uruguay',\n",
        " 'Mexico',\n",
        " 'Costa Rica',\n",
        " 'France',\n",
        " 'United States',\n",
        " 'Belgium',\n",
        " 'Germany',\n",
        " 'Chile',\n",
        " 'Greece',\n",
        " 'Switzerland',\n",
        " 'Nigeria',\n",
        " 'Argentina']"
       ]
      }
     ],
     "prompt_number": 45
    },
    {
     "cell_type": "code",
     "collapsed": false,
     "input": [
      "countries.values()"
     ],
     "language": "python",
     "metadata": {},
     "outputs": [
      {
       "metadata": {},
       "output_type": "pyout",
       "prompt_number": 46,
       "text": [
        "['Brasilia',\n",
        " 'Amsterdam',\n",
        " 'Bogota',\n",
        " 'Algiers',\n",
        " 'Montevideo',\n",
        " 'Mexico City',\n",
        " 'San Jose',\n",
        " 'Paris',\n",
        " 'Washington, D.C.',\n",
        " 'Brussels',\n",
        " 'Berlin',\n",
        " 'Santiago',\n",
        " 'Athens',\n",
        " 'Bern',\n",
        " 'Abuja',\n",
        " 'Buenos Aires']"
       ]
      }
     ],
     "prompt_number": 46
    },
    {
     "cell_type": "markdown",
     "metadata": {},
     "source": [
      "\u8f9e\u66f8\u3092for\u6587\u3067\u51e6\u7406\u3059\u308b\u306b\u306f\u3001\u3053\u3046\u3057\u305f\u95a2\u6570\u3067\u8f9e\u66f8\u304b\u3089\u30ea\u30b9\u30c8\u578b\u306e\u30c7\u30fc\u30bf\u3092\u53d6\u308a\u3060\u3057\u3066\u30eb\u30fc\u30d7\u306b\u653e\u308a\u8fbc\u3081\u3070\u3088\u3044\u3002"
     ]
    },
    {
     "cell_type": "code",
     "collapsed": false,
     "input": [
      "for country, capital in countries.items():\n",
      "    print \"{0} === {1}\".format( country, capital )"
     ],
     "language": "python",
     "metadata": {},
     "outputs": [
      {
       "output_type": "stream",
       "stream": "stdout",
       "text": [
        "Brazil === Brasilia\n",
        "Netherlands === Amsterdam\n",
        "Colombia === Bogota\n",
        "Algeria === Algiers\n",
        "Uruguay === Montevideo\n",
        "Mexico === Mexico City\n",
        "Costa Rica === San Jose\n",
        "France === Paris\n",
        "United States === Washington, D.C.\n",
        "Belgium === Brussels\n",
        "Germany === Berlin\n",
        "Chile === Santiago\n",
        "Greece === Athens\n",
        "Switzerland === Bern\n",
        "Nigeria === Abuja\n",
        "Argentina === Buenos Aires\n"
       ]
      }
     ],
     "prompt_number": 47
    },
    {
     "cell_type": "heading",
     "level": 3,
     "metadata": {},
     "source": [
      "for\u6587\u3092\u968e\u5c64\u7684\u306b\u30cd\u30b9\u30c8\u3059\u308b"
     ]
    },
    {
     "cell_type": "markdown",
     "metadata": {},
     "source": [
      "* for\u6587\u306e\u4e2d\u306bfor\u6587\u3092\u5165\u308c\u3066\u968e\u5c64\u5316\uff08\u30cd\u30b9\u30c8\uff09\u3059\u308b\u3053\u3068\u304c\u3067\u304d\u308b\u3002\n",
      "* \u4e0b\u306e\u4f8b\u3067\u306f\u3001\uff12\u3064\u306e\u30ea\u30b9\u30c8 A \u3068 B \u306b\u542b\u307e\u308c\u308b\u6570\u3092\u304b\u3051\u305f\u7d50\u679c\u3092\u7dcf\u5f53\u305f\u308a\u3067\u30ea\u30b9\u30c8\u3059\u308b\u3002"
     ]
    },
    {
     "cell_type": "code",
     "collapsed": false,
     "input": [
      "A = range( 1, 6 )\n",
      "B = range( 11, 16 )\n",
      "\n",
      "for x in A:\n",
      "    for y in B:\n",
      "        print \"{} * {} = {}\".format( x, y, x * y )"
     ],
     "language": "python",
     "metadata": {},
     "outputs": [
      {
       "output_type": "stream",
       "stream": "stdout",
       "text": [
        "1 * 11 = 11\n",
        "1 * 12 = 12\n",
        "1 * 13 = 13\n",
        "1 * 14 = 14\n",
        "1 * 15 = 15\n",
        "2 * 11 = 22\n",
        "2 * 12 = 24\n",
        "2 * 13 = 26\n",
        "2 * 14 = 28\n",
        "2 * 15 = 30\n",
        "3 * 11 = 33\n",
        "3 * 12 = 36\n",
        "3 * 13 = 39\n",
        "3 * 14 = 42\n",
        "3 * 15 = 45\n",
        "4 * 11 = 44\n",
        "4 * 12 = 48\n",
        "4 * 13 = 52\n",
        "4 * 14 = 56\n",
        "4 * 15 = 60\n",
        "5 * 11 = 55\n",
        "5 * 12 = 60\n",
        "5 * 13 = 65\n",
        "5 * 14 = 70\n",
        "5 * 15 = 75\n"
       ]
      }
     ],
     "prompt_number": 55
    },
    {
     "cell_type": "heading",
     "level": 2,
     "metadata": {},
     "source": [
      "\u30ea\u30b9\u30c8\u5185\u5305\u8868\u8a18"
     ]
    },
    {
     "cell_type": "markdown",
     "metadata": {},
     "source": [
      "* \u30ea\u30b9\u30c8\u306e\u5404\u8981\u7d20\u306b\u3042\u308b\u51e6\u7406\u3092\u884c\u3063\u3066\u3001\u305d\u306e\u7d50\u679c\u3092\u5225\u306e\u30ea\u30b9\u30c8\u306b\u66f8\u304d\u8fbc\u307f\u305f\u3044\u3001\u3068\u3044\u3046\u3053\u3068\u304c\u3057\u3070\u3057\u3070\u3042\u308b\u3002\n",
      "* \u4e00\u4f8b\u3068\u3057\u3066\u3001\u6570\u5024\u306e\u30ea\u30b9\u30c8\u304b\u3089\u3001\u5404\u8981\u7d20\u306e\u4e8c\u4e57\u306e\u5024\u304b\u3089\u306a\u308b\u30ea\u30b9\u30c8\u3092\u5f97\u305f\u3044\u3068\u3059\u308b\u3002"
     ]
    },
    {
     "cell_type": "code",
     "collapsed": false,
     "input": [
      "list1 = [17, 96, 57, 37, 48, 98, 74, 34, 54, 26]"
     ],
     "language": "python",
     "metadata": {},
     "outputs": [],
     "prompt_number": 48
    },
    {
     "cell_type": "code",
     "collapsed": false,
     "input": [
      "list2 = [] # \u7a7a\u306e\u30ea\u30b9\u30c8\n",
      "\n",
      "for x in list1:\n",
      "    list2.append( x ** 2 )\n",
      "\n",
      "print list2"
     ],
     "language": "python",
     "metadata": {},
     "outputs": [
      {
       "output_type": "stream",
       "stream": "stdout",
       "text": [
        "[289, 9216, 3249, 1369, 2304, 9604, 5476, 1156, 2916, 676]\n"
       ]
      }
     ],
     "prompt_number": 52
    },
    {
     "cell_type": "markdown",
     "metadata": {},
     "source": [
      "* \u30ea\u30b9\u30c8\u5185\u5305\u8868\u8a18\u306f\u3001for\u6587\u3092\u7528\u3044\u305a\u306b\u3001\u30ea\u30b9\u30c8\u304b\u3089\u65b0\u3057\u3044\u30ea\u30b9\u30c8\u3092\u3064\u304f\u308b\u3002\n",
      "* \u4e0b\u306e\u4f8b\u306f\u3001\u4e0a\u306e\u4f8b\u3068\u307e\u3063\u305f\u304f\u540c\u3058 `list2` \u3092\u3064\u304f\u308b\u3002"
     ]
    },
    {
     "cell_type": "code",
     "collapsed": false,
     "input": [
      "list2 = [ x ** 2 for x in list1 ]\n",
      "\n",
      "print list2"
     ],
     "language": "python",
     "metadata": {},
     "outputs": [
      {
       "output_type": "stream",
       "stream": "stdout",
       "text": [
        "[289, 9216, 3249, 1369, 2304, 9604, 5476, 1156, 2916, 676]\n"
       ]
      }
     ],
     "prompt_number": 53
    },
    {
     "cell_type": "heading",
     "level": 2,
     "metadata": {},
     "source": [
      "\u6f14\u7fd2"
     ]
    },
    {
     "cell_type": "markdown",
     "metadata": {},
     "source": [
      "\u4ee5\u4e0b\u306e\u8f9e\u66f8\u306f\u30012014 FIFA World Cup\u51fa\u5834\u56fd\u306b\u3064\u3044\u3066\u3001\u5bfe\u6226\u76f8\u624b\u3068\u5bfe\u6226\u6642\u306e\u5f97\u70b9\u3092\u542b\u3093\u3067\u3044\u308b\u3002\u3053\u306e\u8f9e\u66f8\u306f\u3001\u8f9e\u66f8\u306e\u8981\u7d20\u304c\u8f9e\u66f8\u306b\u306a\u3063\u3066\u3044\u308b\u3001\u5165\u308c\u5b50\u72b6\u306e\u8f9e\u66f8\u3067\u3042\u308b\u3002  \n",
      "\u3053\u306e\u8f9e\u66f8\u304b\u3089\u3001\u51fa\u5834\u56fd\u306e\u5168\u5f97\u70b9\u3092\u56fd\u5225\u306b\u51fa\u529b\u3059\u308b\u30d7\u30ed\u30b0\u30e9\u30e0\u3092\u66f8\u304d\u306a\u3055\u3044\u3002"
     ]
    },
    {
     "cell_type": "code",
     "collapsed": false,
     "input": [
      "goals = {\n",
      "    \"Brazil\" : { \n",
      "        \"Croatia\" : 3,\n",
      "        \"Mexico\" : 0,\n",
      "        \"Cameroon\" : 4,\n",
      "        \"Chile\" : 1,\n",
      "        \"Colombia\" : 2,\n",
      "        \"Germany\" : 1,\n",
      "        \"Netherlands\" : 0 },\n",
      "    \"Croatia\" : { \n",
      "        \"Brazil\" : 1,\n",
      "        \"Mexico\" : 1,\n",
      "        \"Cameroon\" : 4 },\n",
      "    \"Mexico\" : { \n",
      "        \"Brazil\" : 0,\n",
      "        \"Croatia\" : 3,\n",
      "        \"Cameroon\" : 1,\n",
      "        \"Netherlands\" : 1 },\n",
      "    \"Cameroon\" : { \n",
      "        \"Brazil\" : 1,\n",
      "        \"Croatia\" : 0,\n",
      "        \"Mexico\" : 0 },\n",
      "\n",
      "    \"Netherlands\" : { \n",
      "        \"Chile\" : 2,\n",
      "        \"Spain\" : 5,\n",
      "        \"Australia\" : 3,\n",
      "        \"Mexico\" : 2,\n",
      "        \"Costa Rica\" : 0,\n",
      "        \"Argentina\" : 0,\n",
      "        \"Brazil\" : 3 },\n",
      "    \"Chile\" : { \n",
      "        \"Netherlands\" : 0,\n",
      "        \"Spain\" : 2,\n",
      "        \"Australia\" : 3,\n",
      "        \"Brazil\" : 1 },\n",
      "    \"Spain\" : { \n",
      "        \"Netherlands\" : 1,\n",
      "        \"Chile\" : 0,\n",
      "        \"Australia\" : 3 },\n",
      "    \"Australia\" : { \n",
      "        \"Netherlands\" : 2,\n",
      "        \"Chile\" : 1,\n",
      "        \"Spain\" : 0 },\n",
      "\n",
      "    \"Colombia\" : { \n",
      "        \"Greece\" : 3,\n",
      "        \"Ivory Coast\" : 2,\n",
      "        \"Japan\" : 4,\n",
      "        \"Uruguay\" : 2,\n",
      "        \"Brazil\" : 1 },\n",
      "    \"Greece\" : { \n",
      "        \"Colombia\" : 0,\n",
      "        \"Ivory Coast\" : 2,\n",
      "        \"Japan\" : 0,\n",
      "        \"Costa Rica\" : 1 },\n",
      "    \"Ivory Coast\" : { \n",
      "        \"Colombia\" : 1,\n",
      "        \"Greece\" : 1,\n",
      "        \"Japan\" : 2 },\n",
      "    \"Japan\" : { \n",
      "        \"Colombia\" : 1,\n",
      "        \"Greece\" : 0,\n",
      "        \"Ivory Coast\" : 1 },\n",
      "\n",
      "    \"Costa Rica\" : { \n",
      "        \"Uruguay\" : 3,\n",
      "        \"Italy\" : 1,\n",
      "        \"England\" : 0,\n",
      "        \"Greece\" : 1,\n",
      "        \"Netherlands\" : 0 },\n",
      "    \"Uruguay\" : { \n",
      "        \"Costa Rica\" : 1,\n",
      "        \"Italy\" : 1,\n",
      "        \"England\" : 2,\n",
      "        \"Colombia\" : 0 },\n",
      "    \"Italy\" : { \n",
      "        \"Costa Rica\" : 0,\n",
      "        \"Uruguay\" : 0,\n",
      "        \"England\" : 2 },\n",
      "    \"England\" : { \n",
      "        \"Costa Rica\" : 0,\n",
      "        \"Uruguay\" : 1,\n",
      "        \"Italy\" : 1 },\n",
      "\n",
      "    \"France\" : { \n",
      "        \"Switzerland\" : 5,\n",
      "        \"Ecuador\" : 0,\n",
      "        \"Honduras\" : 3,\n",
      "        \"Nigeria\" : 2,\n",
      "        \"Germany\" : 0 },\n",
      "    \"Switzerland\" : { \n",
      "        \"France\" : 2,\n",
      "        \"Ecuador\" : 2,\n",
      "        \"Honduras\" : 3,\n",
      "        \"Argentina\" : 0 },\n",
      "    \"Ecuador\" : { \n",
      "        \"France\" : 0,\n",
      "        \"Switzerland\" : 1,\n",
      "        \"Honduras\" : 2 },\n",
      "    \"Honduras\" : { \n",
      "        \"France\" : 0,\n",
      "        \"Switzerland\" : 0,\n",
      "        \"Ecuador\" : 1 },\n",
      "\n",
      "    \"Argentina\" : { \n",
      "        \"Nigeria\" : 3,\n",
      "        \"Bosnia-Herzegovina\" : 2,\n",
      "        \"Iran\" : 1,\n",
      "        \"Switzerland\" : 1,\n",
      "        \"Belgium\" : 1,\n",
      "        \"Netherlands\" : 0,\n",
      "        \"Germany\" : 0 },\n",
      "    \"Nigeria\" : { \n",
      "        \"Argentina\" : 2,\n",
      "        \"Bosnia-Herzegovina\" : 1,\n",
      "        \"Iran\" : 0,\n",
      "        \"France\" : 0 },\n",
      "    \"Bosnia-Herzegovina\" : { \n",
      "        \"Argentina\" : 1,\n",
      "        \"Nigeria\" : 0,\n",
      "        \"Iran\" : 3 },\n",
      "    \"Iran\" : { \n",
      "        \"Argentina\" : 0,\n",
      "        \"Nigeria\" : 0,\n",
      "        \"Bosnia-Herzegovina\" : 1 },\n",
      "\n",
      "    \"Germany\" : { \n",
      "        \"United States\" : 1,\n",
      "        \"Portugal\" : 4,\n",
      "        \"Ghana\" : 2,\n",
      "        \"Algeria\" : 2,\n",
      "        \"France\" : 1,\n",
      "        \"Brazil\" : 7,\n",
      "        \"Argentina\" : 1 },\n",
      "    \"United States\" : { \n",
      "        \"Germany\" : 0,\n",
      "        \"Portugal\" : 2,\n",
      "        \"Ghana\" : 2,\n",
      "        \"Belgium\" : 1 },\n",
      "    \"Portugal\" : { \n",
      "        \"Germany\" : 0,\n",
      "        \"United States\" : 2,\n",
      "        \"Ghana\" : 2 },\n",
      "    \"Ghana\" : { \n",
      "        \"Germany\" : 2,\n",
      "        \"United States\" : 1,\n",
      "        \"Portugal\" : 1 },\n",
      "\n",
      "    \"Belgium\" : { \n",
      "        \"Algeria\" : 2,\n",
      "        \"Russia\" : 1,\n",
      "        \"South Korea\" : 1,\n",
      "        \"United States\" : 2,\n",
      "        \"Argentina\" : 0 },\n",
      "    \"Algeria\" : { \n",
      "        \"Belgium\" : 1,\n",
      "        \"Russia\" : 1,\n",
      "        \"South Korea\" : 4,\n",
      "        \"Germany\" : 1 },\n",
      "    \"Russia\" : { \n",
      "        \"Belgium\" : 0,\n",
      "        \"Algeria\" : 1,\n",
      "        \"South Korea\" : 1 },\n",
      "    \"South Korea\" : { \n",
      "        \"Belgium\" : 0,\n",
      "        \"Algeria\" : 2,\n",
      "        \"Russia\" : 1 }\n",
      "}"
     ],
     "language": "python",
     "metadata": {},
     "outputs": [],
     "prompt_number": 59
    },
    {
     "cell_type": "code",
     "collapsed": false,
     "input": [],
     "language": "python",
     "metadata": {},
     "outputs": []
    }
   ],
   "metadata": {}
  }
 ]
}