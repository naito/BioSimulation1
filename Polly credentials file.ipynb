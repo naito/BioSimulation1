{
 "metadata": {
  "name": "",
  "signature": "sha256:8d35c565726dec8e145c1610285030fbe5b6cb2d08fdb81dd25fc75fd27499e2"
 },
 "nbformat": 3,
 "nbformat_minor": 0,
 "worksheets": [
  {
   "cells": [
    {
     "cell_type": "code",
     "collapsed": false,
     "input": [
      "# https://plot.ly/python/user-guide/#Step-6\n",
      "\n",
      "# https://plot.ly/settings/api\n",
      "\n",
      "import plotly.tools as tls\n",
      "tls.set_credentials_file(\n",
      "    username=\"ynaito\", \n",
      "    stream_ids = [ \"j13fz35n6u\", \"ixim9zy821\" ], \n",
      "    api_key=\"h8fxwez4yn\")"
     ],
     "language": "python",
     "metadata": {},
     "outputs": [],
     "prompt_number": 10
    },
    {
     "cell_type": "code",
     "collapsed": false,
     "input": [
      "%ls -a /Users/ynaito/.plotly/"
     ],
     "language": "python",
     "metadata": {},
     "outputs": [
      {
       "output_type": "stream",
       "stream": "stdout",
       "text": [
        "\u001b[34m.\u001b[m\u001b[m/            \u001b[34m..\u001b[m\u001b[m/           .config       .credentials\r\n"
       ]
      }
     ],
     "prompt_number": 11
    },
    {
     "cell_type": "code",
     "collapsed": false,
     "input": [
      "%less /Users/ynaito/.plotly/.credentials"
     ],
     "language": "python",
     "metadata": {},
     "outputs": [],
     "prompt_number": 13
    },
    {
     "cell_type": "code",
     "collapsed": false,
     "input": [],
     "language": "python",
     "metadata": {},
     "outputs": []
    }
   ],
   "metadata": {}
  }
 ]
}