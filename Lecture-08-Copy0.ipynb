{
 "metadata": {
  "name": "",
  "signature": "sha256:30a81a79f292e65f7f1ae48ca81a8b00e8aa954a9ff44a38e4d9cad6de1c7faf"
 },
 "nbformat": 3,
 "nbformat_minor": 0,
 "worksheets": []
}