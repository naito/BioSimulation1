{
 "metadata": {
  "name": "",
  "signature": "sha256:bfe68361fbeef59113700a75988c50d0456fd059f4fff49e79e7d1517dfa0ad9"
 },
 "nbformat": 3,
 "nbformat_minor": 0,
 "worksheets": [
  {
   "cells": [
    {
     "cell_type": "heading",
     "level": 1,
     "metadata": {},
     "source": [
      "\u7b2c\uff11\u56de IPython Notebook \u3092\u4f7f\u3063\u3066\u307f\u308b"
     ]
    },
    {
     "cell_type": "markdown",
     "metadata": {},
     "source": [
      "IPython Notebook\u3067\u306f\u3001Cell\u3068\u547c\u3070\u308c\u308b\u30dc\u30c3\u30af\u30b9\u306b\u30d7\u30ed\u30b0\u30e9\u30e0\u3092\u8a18\u8ff0\u3057\u3001\u5b9f\u884c\u3057\u307e\u3059\u3002Cell\u306b\u306f\u3001\u30d7\u30ed\u30b0\u30e9\u30e0\u4ee5\u5916\u306e\u6587\u7ae0\u306a\u3069\u3092\u66f8\u304d\u8fbc\u3080\u3053\u3068\u3082\u3067\u304d\u307e\u3059\u3002\uff08\u3053\u306e\u6587\u304c\u66f8\u304b\u308c\u3066\u3044\u308b\u306e\u3082Cell\u3067\u3059\uff09"
     ]
    },
    {
     "cell_type": "markdown",
     "metadata": {},
     "source": [
      "\u4e0b\u306e\u4f8b\u306e\u3088\u3046\u306bPython\u306e\u6587\u3092\u66f8\u304d\u3001Cell\u3092\u5b9f\u884c\uff08Run\uff09\u3057\u3066\u307f\u307e\u3057\u3087\u3046\u3002\n",
      "\n",
      "\u6b63\u5e38\u306b\u5b9f\u884c\u3055\u308c\u308b\u3068\u3001Cell\u306e\u4e0b\u306b\u5b9f\u884c\u7d50\u679c\u304c\u8868\u793a\u3055\u308c\u307e\u3059\u3002\u3053\u306e\u5b9f\u884c\u7d50\u679c\u3092 ** \u623b\u308a\u5024 ** \uff08\u8fd4\u308a\u5024\uff09\u3068\u547c\u3073\u307e\u3059\u3002\n",
      "\n",
      "\u8a18\u8ff0\u306b\u8aa4\u5b57\u306a\u3069\u304c\u3042\u308b\u3068\u3001\u6b63\u5e38\u306b\u5b9f\u884c\u3055\u308c\u305a\u3001\u30a8\u30e9\u30fc\u30e1\u30c3\u30bb\u30fc\u30b8\u304c\u8868\u793a\u3055\u308c\u307e\u3059\u3002"
     ]
    },
    {
     "cell_type": "code",
     "collapsed": false,
     "input": [
      "1 + 1"
     ],
     "language": "python",
     "metadata": {},
     "outputs": [
      {
       "metadata": {},
       "output_type": "pyout",
       "prompt_number": 1,
       "text": [
        "2"
       ]
      }
     ],
     "prompt_number": 1
    },
    {
     "cell_type": "markdown",
     "metadata": {},
     "source": [
      "Python\u3067\u306f\u3001\uff11\u884c\uff08\u884c\u982d\u304b\u3089\u6539\u884c\u307e\u3067\uff09\u304c\u3072\u3068\u307e\u3068\u307e\u308a\u306e\u547d\u4ee4\u3068\u3057\u3066\u89e3\u91c8\u3055\u308c\u307e\u3059\u3002\u4e0b\u306e\u3088\u3046\u306b\u9014\u4e2d\u3067\u6539\u884c\u3057\u3066\u3057\u307e\u3063\u3066\uff12\u884c\u306b\u308f\u305f\u308b\u3068\u3001\u6b63\u3057\u304f\u89e3\u91c8\u3067\u304d\u305a\u3001\u30a8\u30e9\u30fc\u3092\u8868\u793a\u3057\u307e\u3059\u3002"
     ]
    },
    {
     "cell_type": "code",
     "collapsed": false,
     "input": [
      "1 +\n",
      "1"
     ],
     "language": "python",
     "metadata": {},
     "outputs": [
      {
       "ename": "SyntaxError",
       "evalue": "invalid syntax (<ipython-input-2-50bc9fdb1abc>, line 1)",
       "output_type": "pyerr",
       "traceback": [
        "\u001b[0;36m  File \u001b[0;32m\"<ipython-input-2-50bc9fdb1abc>\"\u001b[0;36m, line \u001b[0;32m1\u001b[0m\n\u001b[0;31m    1 +\u001b[0m\n\u001b[0m       ^\u001b[0m\n\u001b[0;31mSyntaxError\u001b[0m\u001b[0;31m:\u001b[0m invalid syntax\n"
       ]
      }
     ],
     "prompt_number": 2
    },
    {
     "cell_type": "markdown",
     "metadata": {},
     "source": [
      "\uff11\u884c\u304c\u9577\u304f\u306a\u3063\u3066\u8aad\u307f\u306b\u304f\u3044\u306a\u3069\u306e\u7406\u7531\u3067\u3001\u8907\u6570\u884c\u306b\u5206\u3051\u305f\u3044\u5834\u5408\u3001\u884c\u672b\u306b\u30d0\u30c3\u30af\u30b9\u30e9\u30c3\u30b7\u30e5\uff08\\\uff09\u3092\u66f8\u304f\u3053\u3068\u3067\u3001Python\u30a4\u30f3\u30bf\u30d7\u30ea\u30bf\u306b\u6539\u884c\u6587\u5b57\u3092\u7121\u8996\u3055\u305b\u3066\u3001\u8907\u6570\u884c\u3092\uff11\u884c\u3068\u3057\u3066\u89e3\u91c8\u3055\u305b\u308b\u3053\u3068\u3082\u3067\u304d\u307e\u3059\u3002"
     ]
    },
    {
     "cell_type": "code",
     "collapsed": false,
     "input": [
      "1 + \\\n",
      "1"
     ],
     "language": "python",
     "metadata": {},
     "outputs": [
      {
       "metadata": {},
       "output_type": "pyout",
       "prompt_number": 3,
       "text": [
        "2"
       ]
      }
     ],
     "prompt_number": 3
    },
    {
     "cell_type": "markdown",
     "metadata": {},
     "source": [
      "\u8907\u6570\u306e\u884c\u3092\u307e\u3068\u3081\u3066\u5b9f\u884c\u3059\u308b\u3053\u3068\u3082\u3067\u304d\u307e\u3059\u3002\u305d\u306e\u5834\u5408\u3001Cell\u306e\u6700\u7d42\u884c\u306e\u623b\u308a\u5024\u304c\u8868\u793a\u3055\u308c\u307e\u3059\u3002"
     ]
    },
    {
     "cell_type": "code",
     "collapsed": false,
     "input": [
      "1 + 2\n",
      "3 * 4"
     ],
     "language": "python",
     "metadata": {},
     "outputs": [
      {
       "metadata": {},
       "output_type": "pyout",
       "prompt_number": 4,
       "text": [
        "12"
       ]
      }
     ],
     "prompt_number": 4
    },
    {
     "cell_type": "heading",
     "level": 2,
     "metadata": {},
     "source": [
      "\u95a2\u6570"
     ]
    },
    {
     "cell_type": "markdown",
     "metadata": {},
     "source": [
      "Python\u306b\u306f\u591a\u304f\u306e\u7d44\u307f\u8fbc\u307f**\u95a2\u6570**\u304c\u7528\u610f\u3055\u308c\u3066\u304a\u308a\u3001\u30b7\u30f3\u30d7\u30eb\u306a\u69cb\u6587\u3067\u8907\u96d1\u306a\u51e6\u7406\u3092\u5b9f\u884c\u3057\u3066\u304f\u308c\u307e\u3059\u3002\n",
      "\n",
      "\u95a2\u6570\u306f\u3001 _\u95a2\u6570\u540d_( _\u5f15\u6570\uff11_, _\u5f15\u6570\uff12_,... ) \u306e\u5f62\u5f0f\u3067\u547c\u3073\u3060\u3057\u307e\u3059\u3002\u5f15\u6570\u306e\u6570\u306f\u95a2\u6570\u306b\u3088\u3063\u3066\u7570\u306a\u308a\u307e\u3059\u3002\n",
      "\n",
      "\u4e0b\u306e\u4f8b\u3067\u306f\u3001abs \u306f\u7d76\u5bfe\u5024\u3092\u8fd4\u3059\u95a2\u6570\u3001pow \u306f\u3079\u304d\u4e57\u3092\u8fd4\u3059\u95a2\u6570\u3067\u3059\u3002\u7d76\u5bfe\u5024\u3092\u8fd4\u3059\u305f\u3081\u306b\u5fc5\u8981\u306a\u5f15\u6570\u306f\u3001\u5bfe\u8c61\u3068\u306a\u308b\u6570\u5024\uff08\u5f15\u6570\uff09\uff11\u3064\u3060\u3051\u3067\u3059\u304c\u3001\u3079\u304d\u4e57\u3092\u8fd4\u3059\u306b\u306f _x_ \u306e _y_ \u4e57\u3092\u8a08\u7b97\u3059\u308b\u305f\u3081\u306b\u3001_x_, _y_ \u306e\uff12\u3064\u306e\u5f15\u6570\u304c\u5fc5\u8981\u3067\u3059\u3002"
     ]
    },
    {
     "cell_type": "code",
     "collapsed": false,
     "input": [
      "abs( -5 )"
     ],
     "language": "python",
     "metadata": {},
     "outputs": [
      {
       "metadata": {},
       "output_type": "pyout",
       "prompt_number": 5,
       "text": [
        "5"
       ]
      }
     ],
     "prompt_number": 5
    },
    {
     "cell_type": "code",
     "collapsed": false,
     "input": [
      "pow( 2, 3 )"
     ],
     "language": "python",
     "metadata": {},
     "outputs": [
      {
       "metadata": {},
       "output_type": "pyout",
       "prompt_number": 6,
       "text": [
        "8"
       ]
      }
     ],
     "prompt_number": 6
    },
    {
     "cell_type": "markdown",
     "metadata": {},
     "source": [
      "Python\u306b\u3042\u3089\u304b\u3058\u3081\u7528\u610f\u3055\u308c\u3066\u3044\u308b\u7d44\u307f\u8fbc\u307f\u95a2\u6570\u3068\u305d\u306e\u6a5f\u80fd\u306f\u3001\u4ee5\u4e0b\u306e URL \u306a\u3069\u306b\u307e\u3068\u307e\u3063\u3066\u3044\u307e\u3059\u3002\n",
      "\n",
      "* http://docs.python.jp/2/library/functions.html"
     ]
    },
    {
     "cell_type": "heading",
     "level": 2,
     "metadata": {},
     "source": [
      "\u30e2\u30b8\u30e5\u30fc\u30eb"
     ]
    },
    {
     "cell_type": "markdown",
     "metadata": {},
     "source": [
      "\u3053\u306e\u4ed6\u306b\u3001Python\u306b\u306f\u76ee\u7684\u306b\u5fdc\u3058\u3066\u3001\u3055\u307e\u3056\u307e\u306a\u95a2\u6570\u3084\u30c4\u30fc\u30eb\u3092\u96c6\u3081\u305f\u30e2\u30b8\u30e5\u30fc\u30eb\u304c\u7528\u610f\u3055\u308c\u3066\u304a\u308a\u3001\u30e2\u30b8\u30e5\u30fc\u30eb\u3092\u8aad\u307f\u8fbc\u3080\uff08\u30a4\u30f3\u30dd\u30fc\u30c8\u3059\u308b\uff09\u3053\u3068\u306b\u3088\u308a\u3001\u7c21\u5358\u306b\u6a5f\u80fd\u3092\u62e1\u5f35\u3059\u308b\u3053\u3068\u304c\u3067\u304d\u307e\u3059\u3002\n",
      "\n",
      "\u30e2\u30b8\u30e5\u30fc\u30eb\u306f\u81ea\u5206\u3067\u4f5c\u6210\u3059\u308b\u3053\u3068\u3082\u3067\u304d\u307e\u3059\u3002\n",
      "\n",
      "\u4ee5\u4e0b\u306b\u3001\u6570\u5b66\u95a2\u4fc2\u306e\u30c4\u30fc\u30eb\u3092\u30d1\u30c3\u30b1\u30fc\u30b8\u306b\u3057\u305f math \u30e2\u30b8\u30e5\u30fc\u30eb\u3092\u7528\u3044\u305f\u4f8b\u3092\u793a\u3057\u307e\u3059\u3002\uff08math \u30e2\u30b8\u30e5\u30fc\u30eb\u306e\u8a73\u3057\u3044\u89e3\u8aac\u306f http://docs.python.jp/2/library/math.html \u306a\u3069\u306b\u3042\u308a\u307e\u3059\uff09"
     ]
    },
    {
     "cell_type": "markdown",
     "metadata": {},
     "source": [
      "\u30e2\u30b8\u30e5\u30fc\u30eb\u3092\u8aad\u307f\u8fbc\u3080\u306b\u306f\u3001import \u6587\u3092\u4f7f\u3044\u307e\u3059\u3002"
     ]
    },
    {
     "cell_type": "code",
     "collapsed": false,
     "input": [
      "import math"
     ],
     "language": "python",
     "metadata": {},
     "outputs": [],
     "prompt_number": 7
    },
    {
     "cell_type": "markdown",
     "metadata": {},
     "source": [
      "\u30e2\u30b8\u30e5\u30fc\u30eb\u306e\u95a2\u6570\u3092\u547c\u3073\u51fa\u3059\u306b\u306f _\u30e2\u30b8\u30e5\u30fc\u30eb\u540d_._\u95a2\u6570\u540d_( _\u5f15\u6570\uff11_, _\u5f15\u6570\uff12_,... ) \u306e\u3088\u3046\u306b\u8a18\u8ff0\u3057\u307e\u3059\u3002\n",
      "\n",
      "math\u30e2\u30b8\u30e5\u30fc\u30eb\u306b\u306f\u3001\u5186\u5468\u7387\u03c0\u306e\u3088\u3046\u306a\u5b9a\u6570\u3082\u53ce\u9332\u3055\u308c\u3066\u3044\u307e\u3059\u3002\u5b9a\u6570\u306f _\u30e2\u30b8\u30e5\u30fc\u30eb\u540d_._\u5b9a\u6570\u540d_ \u306e\u3088\u3046\u306b\u66f8\u304d\u307e\u3059\u3002\n",
      "\n",
      "\u4ee5\u4e0b\u306e\u4f8b\u3067\u306f\u3001\u4e09\u89d2\u95a2\u6570\u306e\u30b3\u30b5\u30a4\u30f3\uff08\u4f59\u5f26\uff09\u3092\u8a08\u7b97\u3059\u308b\u95a2\u6570 cos \u3068\u3001\u5186\u5468\u7387\u3092\u8868\u3059\u5b9a\u6570 pi \u3092\u4f7f\u3044\u307e\u3059\u3002"
     ]
    },
    {
     "cell_type": "code",
     "collapsed": false,
     "input": [
      "math.cos(2 * math.pi)"
     ],
     "language": "python",
     "metadata": {},
     "outputs": [
      {
       "metadata": {},
       "output_type": "pyout",
       "prompt_number": 8,
       "text": [
        "1.0"
       ]
      }
     ],
     "prompt_number": 8
    },
    {
     "cell_type": "heading",
     "level": 2,
     "metadata": {},
     "source": [
      "\u4ee3\u5165"
     ]
    },
    {
     "cell_type": "markdown",
     "metadata": {},
     "source": [
      "Python\u306e\u8a18\u8ff0\u306f\u3001\u6570\u5b66\u3067\u7528\u3044\u308b\u6570\u5f0f\u306e\u8a18\u8ff0\u306b\u4f3c\u305f\u90e8\u5206\u304c\u591a\u304f\u3042\u308a\u307e\u3059\u304c\u3001\u7b49\u53f7\uff08=\uff09\u306e\u610f\u5473\u306f\u307e\u3063\u305f\u304f\u7570\u306a\u308a\u307e\u3059\u306e\u3067\u3001\u6700\u521d\u306b\u3057\u3063\u304b\u308a\u7406\u89e3\u3057\u3066\u304f\u3060\u3055\u3044\u3002\n",
      "\n",
      "\u6570\u5b66\u3067\u306e\u7b49\u53f7\u306f\u3001\u7b49\u53f7\u3092\u306f\u3055\u3093\u3060\u4e21\u8fba\u306e\u5024\u304c\u7b49\u3057\u3044\u3053\u3068\u3092\u8868\u3057\u300cA = B\u300d\u306f\u3001A \u3068 B \u304c\u7b49\u4fa1\u3067\u3042\u308b\u3068\u3044\u3046\u610f\u5473\u306b\u306a\u308a\u307e\u3059\u3002\n",
      "\n",
      "Python\u3067\u300cA = B\u300d\u3068\u8a18\u8ff0\u3057\u305f\u5834\u5408\u3001\u5de6\u8fba\uff08B\uff09\u3092\u53f3\u8fba\uff08A\uff09\u306b\u4ee3\u5165\u3059\u308b\u3068\u3044\u3046\u610f\u5473\u306b\u306a\u308a\u307e\u3059\u3002\u30a4\u30b3\u30fc\u30eb\u8a18\u53f7\uff08=\uff09\u306f **\u4ee3\u5165\u6f14\u7b97\u5b50** \u3068\u547c\u3070\u308c\u307e\u3059\u3002"
     ]
    },
    {
     "cell_type": "code",
     "collapsed": false,
     "input": [
      "x = math.cos(2 * math.pi)"
     ],
     "language": "python",
     "metadata": {},
     "outputs": [],
     "prompt_number": 9
    },
    {
     "cell_type": "markdown",
     "metadata": {},
     "source": [
      "\u4e0a\u306eCell\u3092\u5b9f\u884c\u3057\u3066\u3082\u8fd4\u308a\u5024\u304c\u7a7a\u306a\u306e\u306f\u306a\u305c\u3067\u3057\u3087\u3046\uff1f"
     ]
    },
    {
     "cell_type": "markdown",
     "metadata": {},
     "source": [
      "\u4e0a\u306eCell\u3067\u3001\u5909\u6570 x \u306b\u306f math.cos(2 * math.pi) \u304c\u4ee3\u5165\u3055\u308c\u3066\u3044\u308b\u306e\u3067\u3001x \u3092\u8868\u793a\u3055\u305b\u308c\u3070\u3001\u305d\u306e\u8a08\u7b97\u7d50\u679c\u304c\u8fd4\u3063\u3066\u304d\u307e\u3059\u3002"
     ]
    },
    {
     "cell_type": "code",
     "collapsed": false,
     "input": [
      "x"
     ],
     "language": "python",
     "metadata": {},
     "outputs": [
      {
       "metadata": {},
       "output_type": "pyout",
       "prompt_number": 10,
       "text": [
        "1.0"
       ]
      }
     ],
     "prompt_number": 10
    },
    {
     "cell_type": "code",
     "collapsed": false,
     "input": [],
     "language": "python",
     "metadata": {},
     "outputs": []
    }
   ],
   "metadata": {}
  }
 ]
}